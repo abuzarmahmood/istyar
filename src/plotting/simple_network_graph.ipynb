{
 "cells": [
  {
   "cell_type": "code",
   "execution_count": 243,
   "metadata": {},
   "outputs": [],
   "source": [
    "import os\n",
    "import pandas as pd\n",
    "import plotly.graph_objects as go\n",
    "import networkx as nx\n",
    "from plotly.offline import download_plotlyjs, init_notebook_mode, iplot, plot\n",
    "import numpy as np\n",
    "import plotly.express as px\n",
    "\n",
    "base_dir = '/media/bigdata/projects/katz_pub_tree'\n",
    "data_path = os.path.join(base_dir, 'data') \n"
   ]
  },
  {
   "cell_type": "code",
   "execution_count": 162,
   "metadata": {},
   "outputs": [],
   "source": [
    "paper_frame = pd.read_json(os.path.join(data_path,'katz_frame.json'))"
   ]
  },
  {
   "cell_type": "code",
   "execution_count": 163,
   "metadata": {},
   "outputs": [],
   "source": [
    "# Determine y-position of points\n",
    "# If year is even, offset rank by 0.5 so that marker texts don't overlap\n",
    "grouped_frame = list(paper_frame.groupby('Date'))\n",
    "for num,x in grouped_frame:\n",
    "    if num%2==0:\n",
    "        offset = 0\n",
    "        x['year_even'] = '1'\n",
    "    else:\n",
    "        offset = 0.5\n",
    "        x['year_even'] = '0'\n",
    "    x['Rank'] = np.arange(x.shape[0]) + offset\n",
    "    \n",
    "paper_frame = pd.concat([x for num, x in grouped_frame])"
   ]
  },
  {
   "cell_type": "code",
   "execution_count": 164,
   "metadata": {
    "scrolled": true
   },
   "outputs": [],
   "source": [
    "paper_frame['First Author'] = [this_row[0].split(' ')[-1] for this_row in paper_frame['Authors']]"
   ]
  },
  {
   "cell_type": "code",
   "execution_count": 165,
   "metadata": {},
   "outputs": [],
   "source": [
    "paper_frame['Summary'] = paper_frame['First Author'] + '\\n' + paper_frame['Date'].astype('str')"
   ]
  },
  {
   "cell_type": "code",
   "execution_count": 166,
   "metadata": {},
   "outputs": [
    {
     "name": "stderr",
     "output_type": "stream",
     "text": [
      "/home/abuzarmahmood/anaconda3/lib/python3.6/site-packages/pandas/core/indexing.py:670: SettingWithCopyWarning:\n",
      "\n",
      "\n",
      "A value is trying to be set on a copy of a slice from a DataFrame\n",
      "\n",
      "See the caveats in the documentation: https://pandas.pydata.org/pandas-docs/stable/user_guide/indexing.html#returning-a-view-versus-a-copy\n",
      "\n"
     ]
    }
   ],
   "source": [
    "# Limit authors for visualization\n",
    "paper_frame['Authors_pretty'] = None\n",
    "max_len = 4\n",
    "for num,x in enumerate(paper_frame['Authors']):\n",
    "    if len(x) > max_len:\n",
    "        paper_frame['Authors_pretty'].iloc[num] = x[:4] + ['et al.']\n",
    "    else:\n",
    "         paper_frame['Authors_pretty'].iloc[num] = x"
   ]
  },
  {
   "cell_type": "code",
   "execution_count": 198,
   "metadata": {},
   "outputs": [
    {
     "name": "stderr",
     "output_type": "stream",
     "text": [
      "/home/abuzarmahmood/anaconda3/lib/python3.6/site-packages/pandas/core/indexing.py:670: SettingWithCopyWarning:\n",
      "\n",
      "\n",
      "A value is trying to be set on a copy of a slice from a DataFrame\n",
      "\n",
      "See the caveats in the documentation: https://pandas.pydata.org/pandas-docs/stable/user_guide/indexing.html#returning-a-view-versus-a-copy\n",
      "\n"
     ]
    }
   ],
   "source": [
    "paper_frame['Fin_Article_Type'] = None\n",
    "for num,these_types in enumerate(paper_frame['Article_Type']):\n",
    "    temp_types = [x for x in these_types if 'Research' not in x]\n",
    "    if len(temp_types) >1:\n",
    "        temp_types = [x for x in temp_types if 'Journal Article' not in x]\n",
    "    paper_frame['Fin_Article_Type'].iloc[num] = \",\".join(temp_types)"
   ]
  },
  {
   "cell_type": "code",
   "execution_count": 236,
   "metadata": {},
   "outputs": [],
   "source": [
    "max_title_len = 8 # words\n",
    "title_words = [x.split(' ') for x in paper_frame['Title']]\n",
    "title_split = [np.array_split(x, int(np.ceil(len(x)/max_title_len))) for x in title_words]\n",
    "title_strs = [[\" \".join(x) for x in y] for y in title_split]\n",
    "title_pretty = [\"<br>\".join(x) for x in title_strs]\n",
    "paper_frame['Title_Pretty'] = title_pretty"
   ]
  },
  {
   "cell_type": "code",
   "execution_count": 237,
   "metadata": {},
   "outputs": [
    {
     "data": {
      "text/html": [
       "<div>\n",
       "<style scoped>\n",
       "    .dataframe tbody tr th:only-of-type {\n",
       "        vertical-align: middle;\n",
       "    }\n",
       "\n",
       "    .dataframe tbody tr th {\n",
       "        vertical-align: top;\n",
       "    }\n",
       "\n",
       "    .dataframe thead th {\n",
       "        text-align: right;\n",
       "    }\n",
       "</style>\n",
       "<table border=\"1\" class=\"dataframe\">\n",
       "  <thead>\n",
       "    <tr style=\"text-align: right;\">\n",
       "      <th></th>\n",
       "      <th>Date</th>\n",
       "      <th>Title</th>\n",
       "      <th>PMID</th>\n",
       "      <th>Article_Type</th>\n",
       "      <th>Abstract</th>\n",
       "      <th>Authors</th>\n",
       "      <th>year_even</th>\n",
       "      <th>Rank</th>\n",
       "      <th>First Author</th>\n",
       "      <th>Summary</th>\n",
       "      <th>Authors_pretty</th>\n",
       "      <th>Fin_Article_Type</th>\n",
       "      <th>scatter_size</th>\n",
       "      <th>Title_Pretty</th>\n",
       "    </tr>\n",
       "  </thead>\n",
       "  <tbody>\n",
       "    <tr>\n",
       "      <th>46</th>\n",
       "      <td>2002</td>\n",
       "      <td>Psychological functions of the cerebellum.</td>\n",
       "      <td>17715595</td>\n",
       "      <td>[Journal Article, Review]</td>\n",
       "      <td>[For most of the 20th century, the brain scien...</td>\n",
       "      <td>[Donald B Katz, Joseph E Steinmetz]</td>\n",
       "      <td>1</td>\n",
       "      <td>0.0</td>\n",
       "      <td>Katz</td>\n",
       "      <td>Katz\\n2002</td>\n",
       "      <td>[Donald B Katz, Joseph E Steinmetz]</td>\n",
       "      <td>Review</td>\n",
       "      <td>40</td>\n",
       "      <td>Psychological functions of the cerebellum.</td>\n",
       "    </tr>\n",
       "    <tr>\n",
       "      <th>47</th>\n",
       "      <td>2002</td>\n",
       "      <td>Gustatory processing is dynamic and distributed.</td>\n",
       "      <td>12139994</td>\n",
       "      <td>[Journal Article, Research Support, Non-U.S. G...</td>\n",
       "      <td>[The process of gustatory coding consists of n...</td>\n",
       "      <td>[Donald B Katz, Miguel A L Nicolelis, Sidney A...</td>\n",
       "      <td>1</td>\n",
       "      <td>1.0</td>\n",
       "      <td>Katz</td>\n",
       "      <td>Katz\\n2002</td>\n",
       "      <td>[Donald B Katz, Miguel A L Nicolelis, Sidney A...</td>\n",
       "      <td>Review</td>\n",
       "      <td>40</td>\n",
       "      <td>Gustatory processing is dynamic and distributed.</td>\n",
       "    </tr>\n",
       "    <tr>\n",
       "      <th>45</th>\n",
       "      <td>2005</td>\n",
       "      <td>7 to 12 Hz activity in rat gustatory cortex re...</td>\n",
       "      <td>15574797</td>\n",
       "      <td>[Comparative Study, Journal Article, Research ...</td>\n",
       "      <td>[The 7 to 12 Hz rhythm is a high-voltage oscil...</td>\n",
       "      <td>[Alfredo Fontanini, Donald B Katz]</td>\n",
       "      <td>0</td>\n",
       "      <td>0.5</td>\n",
       "      <td>Fontanini</td>\n",
       "      <td>Fontanini\\n2005</td>\n",
       "      <td>[Alfredo Fontanini, Donald B Katz]</td>\n",
       "      <td>Comparative Study</td>\n",
       "      <td>40</td>\n",
       "      <td>7 to 12 Hz activity in rat gustatory&lt;br&gt;cortex...</td>\n",
       "    </tr>\n",
       "    <tr>\n",
       "      <th>41</th>\n",
       "      <td>2006</td>\n",
       "      <td>State-dependent modulation of time-varying gus...</td>\n",
       "      <td>16928791</td>\n",
       "      <td>[Journal Article, Research Support, N.I.H., Ex...</td>\n",
       "      <td>[Sensory processing is modulated by attention,...</td>\n",
       "      <td>[Alfredo Fontanini, Donald B Katz]</td>\n",
       "      <td>1</td>\n",
       "      <td>0.0</td>\n",
       "      <td>Fontanini</td>\n",
       "      <td>Fontanini\\n2006</td>\n",
       "      <td>[Alfredo Fontanini, Donald B Katz]</td>\n",
       "      <td>Journal Article</td>\n",
       "      <td>40</td>\n",
       "      <td>State-dependent modulation of time-varying gus...</td>\n",
       "    </tr>\n",
       "    <tr>\n",
       "      <th>43</th>\n",
       "      <td>2006</td>\n",
       "      <td>Gustatory processing: a dynamic systems approach.</td>\n",
       "      <td>16842991</td>\n",
       "      <td>[Journal Article, Research Support, N.I.H., Ex...</td>\n",
       "      <td>[Recent gustatory studies have provided a grow...</td>\n",
       "      <td>[Lauren M Jones, Alfredo Fontanini, Donald B K...</td>\n",
       "      <td>1</td>\n",
       "      <td>1.0</td>\n",
       "      <td>Jones</td>\n",
       "      <td>Jones\\n2006</td>\n",
       "      <td>[Lauren M Jones, Alfredo Fontanini, Donald B K...</td>\n",
       "      <td>Review</td>\n",
       "      <td>40</td>\n",
       "      <td>Gustatory processing: a dynamic systems approach.</td>\n",
       "    </tr>\n",
       "    <tr>\n",
       "      <th>39</th>\n",
       "      <td>2007</td>\n",
       "      <td>Natural stimuli evoke dynamic sequences of sta...</td>\n",
       "      <td>18000059</td>\n",
       "      <td>[Journal Article, Research Support, N.I.H., Ex...</td>\n",
       "      <td>[Although temporal coding is a frequent topic ...</td>\n",
       "      <td>[Lauren M Jones, Alfredo Fontanini, Brian F Sa...</td>\n",
       "      <td>0</td>\n",
       "      <td>0.5</td>\n",
       "      <td>Jones</td>\n",
       "      <td>Jones\\n2007</td>\n",
       "      <td>[Lauren M Jones, Alfredo Fontanini, Brian F Sa...</td>\n",
       "      <td>Journal Article</td>\n",
       "      <td>40</td>\n",
       "      <td>Natural stimuli evoke dynamic sequences of&lt;br&gt;...</td>\n",
       "    </tr>\n",
       "    <tr>\n",
       "      <th>40</th>\n",
       "      <td>2007</td>\n",
       "      <td>The EJC factor eIF4AIII modulates synaptic str...</td>\n",
       "      <td>17632064</td>\n",
       "      <td>[Journal Article, Research Support, N.I.H., Ex...</td>\n",
       "      <td>[Proper neuronal function and several forms of...</td>\n",
       "      <td>[Corinna Giorgi, Gene W Yeo, Martha E Stone, D...</td>\n",
       "      <td>0</td>\n",
       "      <td>1.5</td>\n",
       "      <td>Giorgi</td>\n",
       "      <td>Giorgi\\n2007</td>\n",
       "      <td>[Corinna Giorgi, Gene W Yeo, Martha E Stone, D...</td>\n",
       "      <td>Journal Article</td>\n",
       "      <td>40</td>\n",
       "      <td>The EJC factor eIF4AIII modulates synaptic&lt;br&gt;...</td>\n",
       "    </tr>\n",
       "    <tr>\n",
       "      <th>35</th>\n",
       "      <td>2008</td>\n",
       "      <td>Receptors, circuits, and behaviors: new direct...</td>\n",
       "      <td>19005043</td>\n",
       "      <td>[Journal Article, Research Support, N.I.H., Ex...</td>\n",
       "      <td>[The chemical senses, smell and taste, are the...</td>\n",
       "      <td>[Donald B Katz, Hiroaki Matsunami, Dmitry Rinb...</td>\n",
       "      <td>1</td>\n",
       "      <td>0.0</td>\n",
       "      <td>Katz</td>\n",
       "      <td>Katz\\n2008</td>\n",
       "      <td>[Donald B Katz, Hiroaki Matsunami, Dmitry Rinb...</td>\n",
       "      <td>Review</td>\n",
       "      <td>40</td>\n",
       "      <td>Receptors, circuits, and behaviors: new&lt;br&gt;dir...</td>\n",
       "    </tr>\n",
       "    <tr>\n",
       "      <th>36</th>\n",
       "      <td>2008</td>\n",
       "      <td>Behavioral states, network states, and sensory...</td>\n",
       "      <td>18614753</td>\n",
       "      <td>[Journal Article, Research Support, N.I.H., Ex...</td>\n",
       "      <td>[We review data demonstrating that single-neur...</td>\n",
       "      <td>[Alfredo Fontanini, Donald B Katz]</td>\n",
       "      <td>1</td>\n",
       "      <td>1.0</td>\n",
       "      <td>Fontanini</td>\n",
       "      <td>Fontanini\\n2008</td>\n",
       "      <td>[Alfredo Fontanini, Donald B Katz]</td>\n",
       "      <td>Review</td>\n",
       "      <td>40</td>\n",
       "      <td>Behavioral states, network states, and sensory...</td>\n",
       "    </tr>\n",
       "    <tr>\n",
       "      <th>37</th>\n",
       "      <td>2008</td>\n",
       "      <td>Investigating the motivational mechanism of al...</td>\n",
       "      <td>18410179</td>\n",
       "      <td>[Journal Article, Research Support, N.I.H., Ex...</td>\n",
       "      <td>[The precise role played by serotonin (5-HT) i...</td>\n",
       "      <td>[Melissa L Caras, Kimberly MacKenzie, Benjamin...</td>\n",
       "      <td>1</td>\n",
       "      <td>2.0</td>\n",
       "      <td>Caras</td>\n",
       "      <td>Caras\\n2008</td>\n",
       "      <td>[Melissa L Caras, Kimberly MacKenzie, Benjamin...</td>\n",
       "      <td>Journal Article</td>\n",
       "      <td>40</td>\n",
       "      <td>Investigating the motivational mechanism of al...</td>\n",
       "    </tr>\n",
       "    <tr>\n",
       "      <th>38</th>\n",
       "      <td>2008</td>\n",
       "      <td>Learning-related plasticity of temporal coding...</td>\n",
       "      <td>18337417</td>\n",
       "      <td>[Comparative Study, Journal Article, Research ...</td>\n",
       "      <td>[Emotional learning requires the coordinated a...</td>\n",
       "      <td>[Stephen E Grossman, Alfredo Fontanini, Jeffre...</td>\n",
       "      <td>1</td>\n",
       "      <td>3.0</td>\n",
       "      <td>Grossman</td>\n",
       "      <td>Grossman\\n2008</td>\n",
       "      <td>[Stephen E Grossman, Alfredo Fontanini, Jeffre...</td>\n",
       "      <td>Comparative Study</td>\n",
       "      <td>40</td>\n",
       "      <td>Learning-related plasticity of temporal coding...</td>\n",
       "    </tr>\n",
       "    <tr>\n",
       "      <th>34</th>\n",
       "      <td>2009</td>\n",
       "      <td>Behavioral modulation of gustatory cortical ac...</td>\n",
       "      <td>19686167</td>\n",
       "      <td>[Journal Article, Review]</td>\n",
       "      <td>[Our perception of the sensory world is consta...</td>\n",
       "      <td>[Alfredo Fontanini, Donald B Katz]</td>\n",
       "      <td>0</td>\n",
       "      <td>0.5</td>\n",
       "      <td>Fontanini</td>\n",
       "      <td>Fontanini\\n2009</td>\n",
       "      <td>[Alfredo Fontanini, Donald B Katz]</td>\n",
       "      <td>Review</td>\n",
       "      <td>40</td>\n",
       "      <td>Behavioral modulation of gustatory cortical ac...</td>\n",
       "    </tr>\n",
       "    <tr>\n",
       "      <th>32</th>\n",
       "      <td>2010</td>\n",
       "      <td>State dependence of olfactory perception as a ...</td>\n",
       "      <td>20023656</td>\n",
       "      <td>[Journal Article]</td>\n",
       "      <td>[As anyone who has suffered through a head col...</td>\n",
       "      <td>[Yaihara Fortis-Santiago, Benjamin A Rodwin, S...</td>\n",
       "      <td>1</td>\n",
       "      <td>0.0</td>\n",
       "      <td>Fortis-Santiago</td>\n",
       "      <td>Fortis-Santiago\\n2010</td>\n",
       "      <td>[Yaihara Fortis-Santiago, Benjamin A Rodwin, S...</td>\n",
       "      <td>Journal Article</td>\n",
       "      <td>40</td>\n",
       "      <td>State dependence of olfactory perception as&lt;br...</td>\n",
       "    </tr>\n",
       "    <tr>\n",
       "      <th>33</th>\n",
       "      <td>2010</td>\n",
       "      <td>Stochastic transitions between neural states i...</td>\n",
       "      <td>20164341</td>\n",
       "      <td>[Journal Article, Research Support, N.I.H., Ex...</td>\n",
       "      <td>[Noise, which is ubiquitous in the nervous sys...</td>\n",
       "      <td>[Paul Miller, Donald B Katz]</td>\n",
       "      <td>1</td>\n",
       "      <td>1.0</td>\n",
       "      <td>Miller</td>\n",
       "      <td>Miller\\n2010</td>\n",
       "      <td>[Paul Miller, Donald B Katz]</td>\n",
       "      <td>Journal Article</td>\n",
       "      <td>40</td>\n",
       "      <td>Stochastic transitions between neural states&lt;b...</td>\n",
       "    </tr>\n",
       "    <tr>\n",
       "      <th>29</th>\n",
       "      <td>2011</td>\n",
       "      <td>Genetically induced cholinergic hyper-innervat...</td>\n",
       "      <td>22144949</td>\n",
       "      <td>[Journal Article]</td>\n",
       "      <td>[Acute inhibition of acetylcholine (ACh) has b...</td>\n",
       "      <td>[Selin Neseliler, Darshana Narayanan, Yaihara ...</td>\n",
       "      <td>0</td>\n",
       "      <td>0.5</td>\n",
       "      <td>Neseliler</td>\n",
       "      <td>Neseliler\\n2011</td>\n",
       "      <td>[Selin Neseliler, Darshana Narayanan, Yaihara ...</td>\n",
       "      <td>Journal Article</td>\n",
       "      <td>40</td>\n",
       "      <td>Genetically induced cholinergic hyper-innervat...</td>\n",
       "    </tr>\n",
       "    <tr>\n",
       "      <th>30</th>\n",
       "      <td>2011</td>\n",
       "      <td>Olfactory bulb: odor signals put into context.</td>\n",
       "      <td>21435550</td>\n",
       "      <td>[Comment, Journal Article]</td>\n",
       "      <td>[In this issue, Doucette and colleagues demons...</td>\n",
       "      <td>[Donald B Katz, Joost X Maier]</td>\n",
       "      <td>0</td>\n",
       "      <td>1.5</td>\n",
       "      <td>Katz</td>\n",
       "      <td>Katz\\n2011</td>\n",
       "      <td>[Donald B Katz, Joost X Maier]</td>\n",
       "      <td>Comment</td>\n",
       "      <td>40</td>\n",
       "      <td>Olfactory bulb: odor signals put into context.</td>\n",
       "    </tr>\n",
       "    <tr>\n",
       "      <th>31</th>\n",
       "      <td>2011</td>\n",
       "      <td>Control of prestimulus activity related to imp...</td>\n",
       "      <td>21411651</td>\n",
       "      <td>[Journal Article, Research Support, N.I.H., Ex...</td>\n",
       "      <td>[Network state influences the processing of in...</td>\n",
       "      <td>[Takashi Yoshida, Donald B Katz]</td>\n",
       "      <td>0</td>\n",
       "      <td>2.5</td>\n",
       "      <td>Yoshida</td>\n",
       "      <td>Yoshida\\n2011</td>\n",
       "      <td>[Takashi Yoshida, Donald B Katz]</td>\n",
       "      <td>Journal Article</td>\n",
       "      <td>40</td>\n",
       "      <td>Control of prestimulus activity related to imp...</td>\n",
       "    </tr>\n",
       "    <tr>\n",
       "      <th>25</th>\n",
       "      <td>2012</td>\n",
       "      <td>Chemosensory convergence on primary olfactory ...</td>\n",
       "      <td>23197697</td>\n",
       "      <td>[Journal Article, Research Support, N.I.H., Ex...</td>\n",
       "      <td>[Food perception and preference formation reli...</td>\n",
       "      <td>[Joost X Maier, Matt Wachowiak, Donald B Katz]</td>\n",
       "      <td>1</td>\n",
       "      <td>0.0</td>\n",
       "      <td>Maier</td>\n",
       "      <td>Maier\\n2012</td>\n",
       "      <td>[Joost X Maier, Matt Wachowiak, Donald B Katz]</td>\n",
       "      <td>Journal Article</td>\n",
       "      <td>40</td>\n",
       "      <td>Chemosensory convergence on primary olfactory ...</td>\n",
       "    </tr>\n",
       "    <tr>\n",
       "      <th>26</th>\n",
       "      <td>2012</td>\n",
       "      <td>Sodium concentration coding gives way to evalu...</td>\n",
       "      <td>22815514</td>\n",
       "      <td>[Journal Article, Research Support, N.I.H., Ex...</td>\n",
       "      <td>[Typically, stimulus batteries used to charact...</td>\n",
       "      <td>[Brian F Sadacca, Jason T Rothwax, Donald B Katz]</td>\n",
       "      <td>1</td>\n",
       "      <td>1.0</td>\n",
       "      <td>Sadacca</td>\n",
       "      <td>Sadacca\\n2012</td>\n",
       "      <td>[Brian F Sadacca, Jason T Rothwax, Donald B Katz]</td>\n",
       "      <td>Journal Article</td>\n",
       "      <td>40</td>\n",
       "      <td>Sodium concentration coding gives way to&lt;br&gt;ev...</td>\n",
       "    </tr>\n",
       "    <tr>\n",
       "      <th>27</th>\n",
       "      <td>2012</td>\n",
       "      <td>Inactivation of basolateral amygdala specifica...</td>\n",
       "      <td>22815512</td>\n",
       "      <td>[Journal Article, Research Support, N.I.H., Ex...</td>\n",
       "      <td>[Evidence indirectly implicates the amygdala a...</td>\n",
       "      <td>[Caitlin E Piette, Madelyn A Baez-Santiago, Em...</td>\n",
       "      <td>1</td>\n",
       "      <td>2.0</td>\n",
       "      <td>Piette</td>\n",
       "      <td>Piette\\n2012</td>\n",
       "      <td>[Caitlin E Piette, Madelyn A Baez-Santiago, Em...</td>\n",
       "      <td>Journal Article</td>\n",
       "      <td>40</td>\n",
       "      <td>Inactivation of basolateral amygdala specifica...</td>\n",
       "    </tr>\n",
       "    <tr>\n",
       "      <th>28</th>\n",
       "      <td>2012</td>\n",
       "      <td>NMDAR antagonist action in thalamus imposes δ ...</td>\n",
       "      <td>22423006</td>\n",
       "      <td>[Journal Article, Research Support, N.I.H., Ex...</td>\n",
       "      <td>[Work on schizophrenia demonstrates the involv...</td>\n",
       "      <td>[Yuchun Zhang, Takashi Yoshida, Donald B Katz,...</td>\n",
       "      <td>1</td>\n",
       "      <td>3.0</td>\n",
       "      <td>Zhang</td>\n",
       "      <td>Zhang\\n2012</td>\n",
       "      <td>[Yuchun Zhang, Takashi Yoshida, Donald B Katz,...</td>\n",
       "      <td>Journal Article</td>\n",
       "      <td>40</td>\n",
       "      <td>NMDAR antagonist action in thalamus imposes&lt;br...</td>\n",
       "    </tr>\n",
       "    <tr>\n",
       "      <th>20</th>\n",
       "      <td>2013</td>\n",
       "      <td>Firing rate homeostasis in visual cortex of fr...</td>\n",
       "      <td>24139038</td>\n",
       "      <td>[Journal Article, Research Support, N.I.H., Ex...</td>\n",
       "      <td>[It has been postulated that homeostatic mecha...</td>\n",
       "      <td>[Keith B Hengen, Mary E Lambo, Stephen D Van H...</td>\n",
       "      <td>0</td>\n",
       "      <td>0.5</td>\n",
       "      <td>Hengen</td>\n",
       "      <td>Hengen\\n2013</td>\n",
       "      <td>[Keith B Hengen, Mary E Lambo, Stephen D Van H...</td>\n",
       "      <td>Journal Article</td>\n",
       "      <td>40</td>\n",
       "      <td>Firing rate homeostasis in visual&lt;br&gt;cortex of...</td>\n",
       "    </tr>\n",
       "    <tr>\n",
       "      <th>21</th>\n",
       "      <td>2013</td>\n",
       "      <td>Haloperidol-induced changes in neuronal activi...</td>\n",
       "      <td>24379762</td>\n",
       "      <td>[Journal Article]</td>\n",
       "      <td>[The striatum is the main input structure of t...</td>\n",
       "      <td>[Dorin Yael, Dagmar H Zeef, Daniel Sand, Anan ...</td>\n",
       "      <td>0</td>\n",
       "      <td>1.5</td>\n",
       "      <td>Yael</td>\n",
       "      <td>Yael\\n2013</td>\n",
       "      <td>[Dorin Yael, Dagmar H Zeef, Daniel Sand, Anan ...</td>\n",
       "      <td>Journal Article</td>\n",
       "      <td>40</td>\n",
       "      <td>Haloperidol-induced changes in neuronal activi...</td>\n",
       "    </tr>\n",
       "    <tr>\n",
       "      <th>22</th>\n",
       "      <td>2013</td>\n",
       "      <td>Accuracy and response-time distributions for d...</td>\n",
       "      <td>23608921</td>\n",
       "      <td>[Comparative Study, Journal Article, Research ...</td>\n",
       "      <td>[Animals choose actions based on imperfect, am...</td>\n",
       "      <td>[Paul Miller, Donald B Katz]</td>\n",
       "      <td>0</td>\n",
       "      <td>2.5</td>\n",
       "      <td>Miller</td>\n",
       "      <td>Miller\\n2013</td>\n",
       "      <td>[Paul Miller, Donald B Katz]</td>\n",
       "      <td>Comparative Study</td>\n",
       "      <td>40</td>\n",
       "      <td>Accuracy and response-time distributions for d...</td>\n",
       "    </tr>\n",
       "    <tr>\n",
       "      <th>23</th>\n",
       "      <td>2013</td>\n",
       "      <td>Lateral hypothalamus contains two types of pal...</td>\n",
       "      <td>23719813</td>\n",
       "      <td>[Journal Article, Research Support, N.I.H., Ex...</td>\n",
       "      <td>[The taste of foods, in particular the palatab...</td>\n",
       "      <td>[Jennifer X Li, Takashi Yoshida, Kevin J Monk,...</td>\n",
       "      <td>0</td>\n",
       "      <td>3.5</td>\n",
       "      <td>Li</td>\n",
       "      <td>Li\\n2013</td>\n",
       "      <td>[Jennifer X Li, Takashi Yoshida, Kevin J Monk,...</td>\n",
       "      <td>Journal Article</td>\n",
       "      <td>40</td>\n",
       "      <td>Lateral hypothalamus contains two types of&lt;br&gt;...</td>\n",
       "    </tr>\n",
       "    <tr>\n",
       "      <th>24</th>\n",
       "      <td>2013</td>\n",
       "      <td>Neural dynamics in response to binary taste mi...</td>\n",
       "      <td>23365178</td>\n",
       "      <td>[Journal Article, Research Support, N.I.H., Ex...</td>\n",
       "      <td>[Taste stimuli encountered in the natural envi...</td>\n",
       "      <td>[Joost X Maier, Donald B Katz]</td>\n",
       "      <td>0</td>\n",
       "      <td>4.5</td>\n",
       "      <td>Maier</td>\n",
       "      <td>Maier\\n2013</td>\n",
       "      <td>[Joost X Maier, Donald B Katz]</td>\n",
       "      <td>Journal Article</td>\n",
       "      <td>40</td>\n",
       "      <td>Neural dynamics in response to binary taste mi...</td>\n",
       "    </tr>\n",
       "    <tr>\n",
       "      <th>17</th>\n",
       "      <td>2014</td>\n",
       "      <td>Local field potentials in the gustatory cortex...</td>\n",
       "      <td>24966378</td>\n",
       "      <td>[Journal Article, Research Support, N.I.H., Ex...</td>\n",
       "      <td>[It has been recently shown that local field p...</td>\n",
       "      <td>[Rodrigo Pavão, Caitlin E Piette, Vítor Lopes-...</td>\n",
       "      <td>1</td>\n",
       "      <td>0.0</td>\n",
       "      <td>Pavão</td>\n",
       "      <td>Pavão\\n2014</td>\n",
       "      <td>[Rodrigo Pavão, Caitlin E Piette, Vítor Lopes-...</td>\n",
       "      <td>Journal Article</td>\n",
       "      <td>40</td>\n",
       "      <td>Local field potentials in the&lt;br&gt;gustatory cor...</td>\n",
       "    </tr>\n",
       "    <tr>\n",
       "      <th>18</th>\n",
       "      <td>2014</td>\n",
       "      <td>Sensory cortical population dynamics uniquely ...</td>\n",
       "      <td>24453316</td>\n",
       "      <td>[Journal Article, Research Support, N.I.H., Ex...</td>\n",
       "      <td>[Neural responses in many cortical regions enc...</td>\n",
       "      <td>[Anan Moran, Donald B Katz]</td>\n",
       "      <td>1</td>\n",
       "      <td>1.0</td>\n",
       "      <td>Moran</td>\n",
       "      <td>Moran\\n2014</td>\n",
       "      <td>[Anan Moran, Donald B Katz]</td>\n",
       "      <td>Journal Article</td>\n",
       "      <td>40</td>\n",
       "      <td>Sensory cortical population dynamics uniquely ...</td>\n",
       "    </tr>\n",
       "    <tr>\n",
       "      <th>19</th>\n",
       "      <td>2014</td>\n",
       "      <td>Licking microstructure reveals rapid attenuati...</td>\n",
       "      <td>24363269</td>\n",
       "      <td>[Journal Article, Research Support, N.I.H., Ex...</td>\n",
       "      <td>[Many animals hesitate when initially consumin...</td>\n",
       "      <td>[Kevin J Monk, Benjamin D Rubin, Jennifer C Ke...</td>\n",
       "      <td>1</td>\n",
       "      <td>2.0</td>\n",
       "      <td>Monk</td>\n",
       "      <td>Monk\\n2014</td>\n",
       "      <td>[Kevin J Monk, Benjamin D Rubin, Jennifer C Ke...</td>\n",
       "      <td>Journal Article</td>\n",
       "      <td>40</td>\n",
       "      <td>Licking microstructure reveals rapid attenuati...</td>\n",
       "    </tr>\n",
       "    <tr>\n",
       "      <th>15</th>\n",
       "      <td>2015</td>\n",
       "      <td>A Multisensory Network for Olfactory Processing.</td>\n",
       "      <td>26441351</td>\n",
       "      <td>[Journal Article, Research Support, N.I.H., Ex...</td>\n",
       "      <td>[Primary gustatory cortex (GC) is connected (b...</td>\n",
       "      <td>[Joost X Maier, Meredith L Blankenship, Jennif...</td>\n",
       "      <td>0</td>\n",
       "      <td>0.5</td>\n",
       "      <td>Maier</td>\n",
       "      <td>Maier\\n2015</td>\n",
       "      <td>[Joost X Maier, Meredith L Blankenship, Jennif...</td>\n",
       "      <td>Journal Article</td>\n",
       "      <td>40</td>\n",
       "      <td>A Multisensory Network for Olfactory Processing.</td>\n",
       "    </tr>\n",
       "    <tr>\n",
       "      <th>11</th>\n",
       "      <td>2016</td>\n",
       "      <td>Memory Retrieval Has a Dynamic Influence on th...</td>\n",
       "      <td>27733615</td>\n",
       "      <td>[Journal Article]</td>\n",
       "      <td>[In neuroscientists' attempts to understand th...</td>\n",
       "      <td>[David Levitan, Yaihara Fortis-Santiago, Joshu...</td>\n",
       "      <td>1</td>\n",
       "      <td>0.0</td>\n",
       "      <td>Levitan</td>\n",
       "      <td>Levitan\\n2016</td>\n",
       "      <td>[David Levitan, Yaihara Fortis-Santiago, Joshu...</td>\n",
       "      <td>Journal Article</td>\n",
       "      <td>40</td>\n",
       "      <td>Memory Retrieval Has a Dynamic Influence&lt;br&gt;on...</td>\n",
       "    </tr>\n",
       "    <tr>\n",
       "      <th>12</th>\n",
       "      <td>2016</td>\n",
       "      <td>Sensory Cortical Activity Is Related to the Se...</td>\n",
       "      <td>27194338</td>\n",
       "      <td>[Journal Article, Research Support, N.I.H., Ex...</td>\n",
       "      <td>[Rats produce robust, highly distinctive orofa...</td>\n",
       "      <td>[Jennifer X Li, Joost X Maier, Emily E Reid, D...</td>\n",
       "      <td>1</td>\n",
       "      <td>1.0</td>\n",
       "      <td>Li</td>\n",
       "      <td>Li\\n2016</td>\n",
       "      <td>[Jennifer X Li, Joost X Maier, Emily E Reid, D...</td>\n",
       "      <td>Journal Article</td>\n",
       "      <td>40</td>\n",
       "      <td>Sensory Cortical Activity Is Related to the&lt;br...</td>\n",
       "    </tr>\n",
       "    <tr>\n",
       "      <th>13</th>\n",
       "      <td>2016</td>\n",
       "      <td>Preexposure to salty and sour taste enhances c...</td>\n",
       "      <td>27084929</td>\n",
       "      <td>[Journal Article, Research Support, N.I.H., Ex...</td>\n",
       "      <td>[Conditioned taste aversion (CTA) is an intens...</td>\n",
       "      <td>[Veronica L Flores, Anan Moran, Max Bernstein,...</td>\n",
       "      <td>1</td>\n",
       "      <td>2.0</td>\n",
       "      <td>Flores</td>\n",
       "      <td>Flores\\n2016</td>\n",
       "      <td>[Veronica L Flores, Anan Moran, Max Bernstein,...</td>\n",
       "      <td>Journal Article</td>\n",
       "      <td>40</td>\n",
       "      <td>Preexposure to salty and sour taste enhances&lt;b...</td>\n",
       "    </tr>\n",
       "    <tr>\n",
       "      <th>14</th>\n",
       "      <td>2016</td>\n",
       "      <td>Dynamic taste responses of parabrachial pontin...</td>\n",
       "      <td>26792879</td>\n",
       "      <td>[Journal Article, Research Support, N.I.H., Ex...</td>\n",
       "      <td>[The parabrachial nuclei of the pons (PbN) rec...</td>\n",
       "      <td>[Madelyn A Baez-Santiago, Emily E Reid, Anan M...</td>\n",
       "      <td>1</td>\n",
       "      <td>3.0</td>\n",
       "      <td>Baez-Santiago</td>\n",
       "      <td>Baez-Santiago\\n2016</td>\n",
       "      <td>[Madelyn A Baez-Santiago, Emily E Reid, Anan M...</td>\n",
       "      <td>Journal Article</td>\n",
       "      <td>40</td>\n",
       "      <td>Dynamic taste responses of parabrachial&lt;br&gt;pon...</td>\n",
       "    </tr>\n",
       "    <tr>\n",
       "      <th>16</th>\n",
       "      <td>2016</td>\n",
       "      <td>The Behavioral Relevance of Cortical Neural En...</td>\n",
       "      <td>26791199</td>\n",
       "      <td>[Journal Article, Research Support, N.I.H., Ex...</td>\n",
       "      <td>[Whereas many laboratory-studied decisions inv...</td>\n",
       "      <td>[Brian F Sadacca, Narendra Mukherjee, Tony Vla...</td>\n",
       "      <td>1</td>\n",
       "      <td>4.0</td>\n",
       "      <td>Sadacca</td>\n",
       "      <td>Sadacca\\n2016</td>\n",
       "      <td>[Brian F Sadacca, Narendra Mukherjee, Tony Vla...</td>\n",
       "      <td>Journal Article</td>\n",
       "      <td>40</td>\n",
       "      <td>The Behavioral Relevance of Cortical&lt;br&gt;Neural...</td>\n",
       "    </tr>\n",
       "    <tr>\n",
       "      <th>9</th>\n",
       "      <td>2018</td>\n",
       "      <td>The role of the gustatory cortex in incidental...</td>\n",
       "      <td>30322892</td>\n",
       "      <td>[Journal Article, Research Support, N.I.H., Ex...</td>\n",
       "      <td>[The strength of learned associations between ...</td>\n",
       "      <td>[Veronica L Flores, Tamar Parmet, Narendra Muk...</td>\n",
       "      <td>1</td>\n",
       "      <td>0.0</td>\n",
       "      <td>Flores</td>\n",
       "      <td>Flores\\n2018</td>\n",
       "      <td>[Veronica L Flores, Tamar Parmet, Narendra Muk...</td>\n",
       "      <td>Journal Article</td>\n",
       "      <td>40</td>\n",
       "      <td>The role of the gustatory cortex in&lt;br&gt;inciden...</td>\n",
       "    </tr>\n",
       "    <tr>\n",
       "      <th>5</th>\n",
       "      <td>2019</td>\n",
       "      <td>Single and population coding of taste in the g...</td>\n",
       "      <td>31339800</td>\n",
       "      <td>[Journal Article, Research Support, N.I.H., Ex...</td>\n",
       "      <td>[Electrophysiological analysis has revealed mu...</td>\n",
       "      <td>[David Levitan, Jian-You Lin, Joseph Wachutka,...</td>\n",
       "      <td>0</td>\n",
       "      <td>0.5</td>\n",
       "      <td>Levitan</td>\n",
       "      <td>Levitan\\n2019</td>\n",
       "      <td>[David Levitan, Jian-You Lin, Joseph Wachutka,...</td>\n",
       "      <td>Journal Article</td>\n",
       "      <td>40</td>\n",
       "      <td>Single and population coding of taste in&lt;br&gt;th...</td>\n",
       "    </tr>\n",
       "    <tr>\n",
       "      <th>6</th>\n",
       "      <td>2019</td>\n",
       "      <td>Impact of precisely-timed inhibition of gustat...</td>\n",
       "      <td>31232693</td>\n",
       "      <td>[Journal Article, Research Support, N.I.H., Ex...</td>\n",
       "      <td>[Sensation and action are necessarily coupled ...</td>\n",
       "      <td>[Narendra Mukherjee, Joseph Wachutka, Donald B...</td>\n",
       "      <td>0</td>\n",
       "      <td>1.5</td>\n",
       "      <td>Mukherjee</td>\n",
       "      <td>Mukherjee\\n2019</td>\n",
       "      <td>[Narendra Mukherjee, Joseph Wachutka, Donald B...</td>\n",
       "      <td>Journal Article</td>\n",
       "      <td>40</td>\n",
       "      <td>Impact of precisely-timed inhibition of gustat...</td>\n",
       "    </tr>\n",
       "    <tr>\n",
       "      <th>7</th>\n",
       "      <td>2019</td>\n",
       "      <td>Recognizing Taste: Coding Patterns Along the N...</td>\n",
       "      <td>30788507</td>\n",
       "      <td>[Journal Article, Research Support, N.I.H., Ex...</td>\n",
       "      <td>[The gustatory system encodes information abou...</td>\n",
       "      <td>[Kathrin Ohla, Ryusuke Yoshida, Stephen D Rope...</td>\n",
       "      <td>0</td>\n",
       "      <td>2.5</td>\n",
       "      <td>Ohla</td>\n",
       "      <td>Ohla\\n2019</td>\n",
       "      <td>[Kathrin Ohla, Ryusuke Yoshida, Stephen D Rope...</td>\n",
       "      <td>Review</td>\n",
       "      <td>40</td>\n",
       "      <td>Recognizing Taste: Coding Patterns Along&lt;br&gt;th...</td>\n",
       "    </tr>\n",
       "    <tr>\n",
       "      <th>8</th>\n",
       "      <td>2019</td>\n",
       "      <td>Interaction of Taste and Place Coding in the H...</td>\n",
       "      <td>30777885</td>\n",
       "      <td>[Journal Article, Research Support, N.I.H., Ex...</td>\n",
       "      <td>[An animal's survival depends on finding food ...</td>\n",
       "      <td>[Linnea E Herzog, Leila May Pascual, Seneca J ...</td>\n",
       "      <td>0</td>\n",
       "      <td>3.5</td>\n",
       "      <td>Herzog</td>\n",
       "      <td>Herzog\\n2019</td>\n",
       "      <td>[Linnea E Herzog, Leila May Pascual, Seneca J ...</td>\n",
       "      <td>Journal Article</td>\n",
       "      <td>40</td>\n",
       "      <td>Interaction of Taste and Place&lt;br&gt;Coding in th...</td>\n",
       "    </tr>\n",
       "    <tr>\n",
       "      <th>10</th>\n",
       "      <td>2019</td>\n",
       "      <td>Retronasal Odor Perception Requires Taste Cort...</td>\n",
       "      <td>30581018</td>\n",
       "      <td>[Journal Article, Research Support, N.I.H., Ex...</td>\n",
       "      <td>[Smells can arise from a source external to th...</td>\n",
       "      <td>[Meredith L Blankenship, Maria Grigorova, Dona...</td>\n",
       "      <td>0</td>\n",
       "      <td>4.5</td>\n",
       "      <td>Blankenship</td>\n",
       "      <td>Blankenship\\n2019</td>\n",
       "      <td>[Meredith L Blankenship, Maria Grigorova, Dona...</td>\n",
       "      <td>Journal Article</td>\n",
       "      <td>40</td>\n",
       "      <td>Retronasal Odor Perception Requires Taste&lt;br&gt;C...</td>\n",
       "    </tr>\n",
       "    <tr>\n",
       "      <th>3</th>\n",
       "      <td>2020</td>\n",
       "      <td>Deletion of &lt;i&gt;Stk11&lt;/i&gt; and &lt;i&gt;Fos&lt;/i&gt; in mou...</td>\n",
       "      <td>32779566</td>\n",
       "      <td>[Journal Article, Research Support, N.I.H., Ex...</td>\n",
       "      <td>[Conditioned taste aversion (CTA) is a form of...</td>\n",
       "      <td>[David Levitan, Chenghao Liu, Tracy Yang, Yasu...</td>\n",
       "      <td>1</td>\n",
       "      <td>0.0</td>\n",
       "      <td>Levitan</td>\n",
       "      <td>Levitan\\n2020</td>\n",
       "      <td>[David Levitan, Chenghao Liu, Tracy Yang, Yasu...</td>\n",
       "      <td>Journal Article</td>\n",
       "      <td>40</td>\n",
       "      <td>Deletion of &lt;i&gt;Stk11&lt;/i&gt; and &lt;i&gt;Fos&lt;/i&gt; in mou...</td>\n",
       "    </tr>\n",
       "    <tr>\n",
       "      <th>4</th>\n",
       "      <td>2020</td>\n",
       "      <td>Refinement and Reactivation of a Taste-Respons...</td>\n",
       "      <td>32197078</td>\n",
       "      <td>[Journal Article, Research Support, N.I.H., Ex...</td>\n",
       "      <td>[Animals need to remember the locations of nou...</td>\n",
       "      <td>[Linnea E Herzog, Donald B Katz, Shantanu P Ja...</td>\n",
       "      <td>1</td>\n",
       "      <td>1.0</td>\n",
       "      <td>Herzog</td>\n",
       "      <td>Herzog\\n2020</td>\n",
       "      <td>[Linnea E Herzog, Donald B Katz, Shantanu P Ja...</td>\n",
       "      <td>Journal Article</td>\n",
       "      <td>40</td>\n",
       "      <td>Refinement and Reactivation of a Taste-Respons...</td>\n",
       "    </tr>\n",
       "    <tr>\n",
       "      <th>0</th>\n",
       "      <td>2021</td>\n",
       "      <td>A model of naturalistic decision making in pre...</td>\n",
       "      <td>34555012</td>\n",
       "      <td>[Journal Article, Research Support, N.I.H., Ex...</td>\n",
       "      <td>[Decisions as to whether to continue with an o...</td>\n",
       "      <td>[John Ksander, Donald B Katz, Paul Miller]</td>\n",
       "      <td>0</td>\n",
       "      <td>0.5</td>\n",
       "      <td>Ksander</td>\n",
       "      <td>Ksander\\n2021</td>\n",
       "      <td>[John Ksander, Donald B Katz, Paul Miller]</td>\n",
       "      <td>Journal Article</td>\n",
       "      <td>40</td>\n",
       "      <td>A model of naturalistic decision&lt;br&gt;making in ...</td>\n",
       "    </tr>\n",
       "    <tr>\n",
       "      <th>1</th>\n",
       "      <td>2021</td>\n",
       "      <td>Homeostatic synaptic scaling establishes the s...</td>\n",
       "      <td>33798429</td>\n",
       "      <td>[Journal Article, Research Support, N.I.H., Ex...</td>\n",
       "      <td>[Correlation-based (Hebbian) forms of synaptic...</td>\n",
       "      <td>[Chi-Hong Wu, Raul Ramos, Donald B Katz, Gina ...</td>\n",
       "      <td>0</td>\n",
       "      <td>1.5</td>\n",
       "      <td>Wu</td>\n",
       "      <td>Wu\\n2021</td>\n",
       "      <td>[Chi-Hong Wu, Raul Ramos, Donald B Katz, Gina ...</td>\n",
       "      <td>Journal Article</td>\n",
       "      <td>40</td>\n",
       "      <td>Homeostatic synaptic scaling establishes the&lt;b...</td>\n",
       "    </tr>\n",
       "    <tr>\n",
       "      <th>2</th>\n",
       "      <td>2021</td>\n",
       "      <td>Perturbation of amygdala-cortical projections ...</td>\n",
       "      <td>34018924</td>\n",
       "      <td>[Journal Article, Research Support, N.I.H., Ex...</td>\n",
       "      <td>[Taste palatability is centrally involved in c...</td>\n",
       "      <td>[Jian-You Lin, Narendra Mukherjee, Max J Berns...</td>\n",
       "      <td>0</td>\n",
       "      <td>2.5</td>\n",
       "      <td>Lin</td>\n",
       "      <td>Lin\\n2021</td>\n",
       "      <td>[Jian-You Lin, Narendra Mukherjee, Max J Berns...</td>\n",
       "      <td>Journal Article</td>\n",
       "      <td>40</td>\n",
       "      <td>Perturbation of amygdala-cortical projections ...</td>\n",
       "    </tr>\n",
       "  </tbody>\n",
       "</table>\n",
       "</div>"
      ],
      "text/plain": [
       "    Date                                              Title      PMID  \\\n",
       "46  2002         Psychological functions of the cerebellum.  17715595   \n",
       "47  2002   Gustatory processing is dynamic and distributed.  12139994   \n",
       "45  2005  7 to 12 Hz activity in rat gustatory cortex re...  15574797   \n",
       "41  2006  State-dependent modulation of time-varying gus...  16928791   \n",
       "43  2006  Gustatory processing: a dynamic systems approach.  16842991   \n",
       "39  2007  Natural stimuli evoke dynamic sequences of sta...  18000059   \n",
       "40  2007  The EJC factor eIF4AIII modulates synaptic str...  17632064   \n",
       "35  2008  Receptors, circuits, and behaviors: new direct...  19005043   \n",
       "36  2008  Behavioral states, network states, and sensory...  18614753   \n",
       "37  2008  Investigating the motivational mechanism of al...  18410179   \n",
       "38  2008  Learning-related plasticity of temporal coding...  18337417   \n",
       "34  2009  Behavioral modulation of gustatory cortical ac...  19686167   \n",
       "32  2010  State dependence of olfactory perception as a ...  20023656   \n",
       "33  2010  Stochastic transitions between neural states i...  20164341   \n",
       "29  2011  Genetically induced cholinergic hyper-innervat...  22144949   \n",
       "30  2011     Olfactory bulb: odor signals put into context.  21435550   \n",
       "31  2011  Control of prestimulus activity related to imp...  21411651   \n",
       "25  2012  Chemosensory convergence on primary olfactory ...  23197697   \n",
       "26  2012  Sodium concentration coding gives way to evalu...  22815514   \n",
       "27  2012  Inactivation of basolateral amygdala specifica...  22815512   \n",
       "28  2012  NMDAR antagonist action in thalamus imposes δ ...  22423006   \n",
       "20  2013  Firing rate homeostasis in visual cortex of fr...  24139038   \n",
       "21  2013  Haloperidol-induced changes in neuronal activi...  24379762   \n",
       "22  2013  Accuracy and response-time distributions for d...  23608921   \n",
       "23  2013  Lateral hypothalamus contains two types of pal...  23719813   \n",
       "24  2013  Neural dynamics in response to binary taste mi...  23365178   \n",
       "17  2014  Local field potentials in the gustatory cortex...  24966378   \n",
       "18  2014  Sensory cortical population dynamics uniquely ...  24453316   \n",
       "19  2014  Licking microstructure reveals rapid attenuati...  24363269   \n",
       "15  2015   A Multisensory Network for Olfactory Processing.  26441351   \n",
       "11  2016  Memory Retrieval Has a Dynamic Influence on th...  27733615   \n",
       "12  2016  Sensory Cortical Activity Is Related to the Se...  27194338   \n",
       "13  2016  Preexposure to salty and sour taste enhances c...  27084929   \n",
       "14  2016  Dynamic taste responses of parabrachial pontin...  26792879   \n",
       "16  2016  The Behavioral Relevance of Cortical Neural En...  26791199   \n",
       "9   2018  The role of the gustatory cortex in incidental...  30322892   \n",
       "5   2019  Single and population coding of taste in the g...  31339800   \n",
       "6   2019  Impact of precisely-timed inhibition of gustat...  31232693   \n",
       "7   2019  Recognizing Taste: Coding Patterns Along the N...  30788507   \n",
       "8   2019  Interaction of Taste and Place Coding in the H...  30777885   \n",
       "10  2019  Retronasal Odor Perception Requires Taste Cort...  30581018   \n",
       "3   2020  Deletion of <i>Stk11</i> and <i>Fos</i> in mou...  32779566   \n",
       "4   2020  Refinement and Reactivation of a Taste-Respons...  32197078   \n",
       "0   2021  A model of naturalistic decision making in pre...  34555012   \n",
       "1   2021  Homeostatic synaptic scaling establishes the s...  33798429   \n",
       "2   2021  Perturbation of amygdala-cortical projections ...  34018924   \n",
       "\n",
       "                                         Article_Type  \\\n",
       "46                          [Journal Article, Review]   \n",
       "47  [Journal Article, Research Support, Non-U.S. G...   \n",
       "45  [Comparative Study, Journal Article, Research ...   \n",
       "41  [Journal Article, Research Support, N.I.H., Ex...   \n",
       "43  [Journal Article, Research Support, N.I.H., Ex...   \n",
       "39  [Journal Article, Research Support, N.I.H., Ex...   \n",
       "40  [Journal Article, Research Support, N.I.H., Ex...   \n",
       "35  [Journal Article, Research Support, N.I.H., Ex...   \n",
       "36  [Journal Article, Research Support, N.I.H., Ex...   \n",
       "37  [Journal Article, Research Support, N.I.H., Ex...   \n",
       "38  [Comparative Study, Journal Article, Research ...   \n",
       "34                          [Journal Article, Review]   \n",
       "32                                  [Journal Article]   \n",
       "33  [Journal Article, Research Support, N.I.H., Ex...   \n",
       "29                                  [Journal Article]   \n",
       "30                         [Comment, Journal Article]   \n",
       "31  [Journal Article, Research Support, N.I.H., Ex...   \n",
       "25  [Journal Article, Research Support, N.I.H., Ex...   \n",
       "26  [Journal Article, Research Support, N.I.H., Ex...   \n",
       "27  [Journal Article, Research Support, N.I.H., Ex...   \n",
       "28  [Journal Article, Research Support, N.I.H., Ex...   \n",
       "20  [Journal Article, Research Support, N.I.H., Ex...   \n",
       "21                                  [Journal Article]   \n",
       "22  [Comparative Study, Journal Article, Research ...   \n",
       "23  [Journal Article, Research Support, N.I.H., Ex...   \n",
       "24  [Journal Article, Research Support, N.I.H., Ex...   \n",
       "17  [Journal Article, Research Support, N.I.H., Ex...   \n",
       "18  [Journal Article, Research Support, N.I.H., Ex...   \n",
       "19  [Journal Article, Research Support, N.I.H., Ex...   \n",
       "15  [Journal Article, Research Support, N.I.H., Ex...   \n",
       "11                                  [Journal Article]   \n",
       "12  [Journal Article, Research Support, N.I.H., Ex...   \n",
       "13  [Journal Article, Research Support, N.I.H., Ex...   \n",
       "14  [Journal Article, Research Support, N.I.H., Ex...   \n",
       "16  [Journal Article, Research Support, N.I.H., Ex...   \n",
       "9   [Journal Article, Research Support, N.I.H., Ex...   \n",
       "5   [Journal Article, Research Support, N.I.H., Ex...   \n",
       "6   [Journal Article, Research Support, N.I.H., Ex...   \n",
       "7   [Journal Article, Research Support, N.I.H., Ex...   \n",
       "8   [Journal Article, Research Support, N.I.H., Ex...   \n",
       "10  [Journal Article, Research Support, N.I.H., Ex...   \n",
       "3   [Journal Article, Research Support, N.I.H., Ex...   \n",
       "4   [Journal Article, Research Support, N.I.H., Ex...   \n",
       "0   [Journal Article, Research Support, N.I.H., Ex...   \n",
       "1   [Journal Article, Research Support, N.I.H., Ex...   \n",
       "2   [Journal Article, Research Support, N.I.H., Ex...   \n",
       "\n",
       "                                             Abstract  \\\n",
       "46  [For most of the 20th century, the brain scien...   \n",
       "47  [The process of gustatory coding consists of n...   \n",
       "45  [The 7 to 12 Hz rhythm is a high-voltage oscil...   \n",
       "41  [Sensory processing is modulated by attention,...   \n",
       "43  [Recent gustatory studies have provided a grow...   \n",
       "39  [Although temporal coding is a frequent topic ...   \n",
       "40  [Proper neuronal function and several forms of...   \n",
       "35  [The chemical senses, smell and taste, are the...   \n",
       "36  [We review data demonstrating that single-neur...   \n",
       "37  [The precise role played by serotonin (5-HT) i...   \n",
       "38  [Emotional learning requires the coordinated a...   \n",
       "34  [Our perception of the sensory world is consta...   \n",
       "32  [As anyone who has suffered through a head col...   \n",
       "33  [Noise, which is ubiquitous in the nervous sys...   \n",
       "29  [Acute inhibition of acetylcholine (ACh) has b...   \n",
       "30  [In this issue, Doucette and colleagues demons...   \n",
       "31  [Network state influences the processing of in...   \n",
       "25  [Food perception and preference formation reli...   \n",
       "26  [Typically, stimulus batteries used to charact...   \n",
       "27  [Evidence indirectly implicates the amygdala a...   \n",
       "28  [Work on schizophrenia demonstrates the involv...   \n",
       "20  [It has been postulated that homeostatic mecha...   \n",
       "21  [The striatum is the main input structure of t...   \n",
       "22  [Animals choose actions based on imperfect, am...   \n",
       "23  [The taste of foods, in particular the palatab...   \n",
       "24  [Taste stimuli encountered in the natural envi...   \n",
       "17  [It has been recently shown that local field p...   \n",
       "18  [Neural responses in many cortical regions enc...   \n",
       "19  [Many animals hesitate when initially consumin...   \n",
       "15  [Primary gustatory cortex (GC) is connected (b...   \n",
       "11  [In neuroscientists' attempts to understand th...   \n",
       "12  [Rats produce robust, highly distinctive orofa...   \n",
       "13  [Conditioned taste aversion (CTA) is an intens...   \n",
       "14  [The parabrachial nuclei of the pons (PbN) rec...   \n",
       "16  [Whereas many laboratory-studied decisions inv...   \n",
       "9   [The strength of learned associations between ...   \n",
       "5   [Electrophysiological analysis has revealed mu...   \n",
       "6   [Sensation and action are necessarily coupled ...   \n",
       "7   [The gustatory system encodes information abou...   \n",
       "8   [An animal's survival depends on finding food ...   \n",
       "10  [Smells can arise from a source external to th...   \n",
       "3   [Conditioned taste aversion (CTA) is a form of...   \n",
       "4   [Animals need to remember the locations of nou...   \n",
       "0   [Decisions as to whether to continue with an o...   \n",
       "1   [Correlation-based (Hebbian) forms of synaptic...   \n",
       "2   [Taste palatability is centrally involved in c...   \n",
       "\n",
       "                                              Authors year_even  Rank  \\\n",
       "46                [Donald B Katz, Joseph E Steinmetz]         1   0.0   \n",
       "47  [Donald B Katz, Miguel A L Nicolelis, Sidney A...         1   1.0   \n",
       "45                 [Alfredo Fontanini, Donald B Katz]         0   0.5   \n",
       "41                 [Alfredo Fontanini, Donald B Katz]         1   0.0   \n",
       "43  [Lauren M Jones, Alfredo Fontanini, Donald B K...         1   1.0   \n",
       "39  [Lauren M Jones, Alfredo Fontanini, Brian F Sa...         0   0.5   \n",
       "40  [Corinna Giorgi, Gene W Yeo, Martha E Stone, D...         0   1.5   \n",
       "35  [Donald B Katz, Hiroaki Matsunami, Dmitry Rinb...         1   0.0   \n",
       "36                 [Alfredo Fontanini, Donald B Katz]         1   1.0   \n",
       "37  [Melissa L Caras, Kimberly MacKenzie, Benjamin...         1   2.0   \n",
       "38  [Stephen E Grossman, Alfredo Fontanini, Jeffre...         1   3.0   \n",
       "34                 [Alfredo Fontanini, Donald B Katz]         0   0.5   \n",
       "32  [Yaihara Fortis-Santiago, Benjamin A Rodwin, S...         1   0.0   \n",
       "33                       [Paul Miller, Donald B Katz]         1   1.0   \n",
       "29  [Selin Neseliler, Darshana Narayanan, Yaihara ...         0   0.5   \n",
       "30                     [Donald B Katz, Joost X Maier]         0   1.5   \n",
       "31                   [Takashi Yoshida, Donald B Katz]         0   2.5   \n",
       "25     [Joost X Maier, Matt Wachowiak, Donald B Katz]         1   0.0   \n",
       "26  [Brian F Sadacca, Jason T Rothwax, Donald B Katz]         1   1.0   \n",
       "27  [Caitlin E Piette, Madelyn A Baez-Santiago, Em...         1   2.0   \n",
       "28  [Yuchun Zhang, Takashi Yoshida, Donald B Katz,...         1   3.0   \n",
       "20  [Keith B Hengen, Mary E Lambo, Stephen D Van H...         0   0.5   \n",
       "21  [Dorin Yael, Dagmar H Zeef, Daniel Sand, Anan ...         0   1.5   \n",
       "22                       [Paul Miller, Donald B Katz]         0   2.5   \n",
       "23  [Jennifer X Li, Takashi Yoshida, Kevin J Monk,...         0   3.5   \n",
       "24                     [Joost X Maier, Donald B Katz]         0   4.5   \n",
       "17  [Rodrigo Pavão, Caitlin E Piette, Vítor Lopes-...         1   0.0   \n",
       "18                        [Anan Moran, Donald B Katz]         1   1.0   \n",
       "19  [Kevin J Monk, Benjamin D Rubin, Jennifer C Ke...         1   2.0   \n",
       "15  [Joost X Maier, Meredith L Blankenship, Jennif...         0   0.5   \n",
       "11  [David Levitan, Yaihara Fortis-Santiago, Joshu...         1   0.0   \n",
       "12  [Jennifer X Li, Joost X Maier, Emily E Reid, D...         1   1.0   \n",
       "13  [Veronica L Flores, Anan Moran, Max Bernstein,...         1   2.0   \n",
       "14  [Madelyn A Baez-Santiago, Emily E Reid, Anan M...         1   3.0   \n",
       "16  [Brian F Sadacca, Narendra Mukherjee, Tony Vla...         1   4.0   \n",
       "9   [Veronica L Flores, Tamar Parmet, Narendra Muk...         1   0.0   \n",
       "5   [David Levitan, Jian-You Lin, Joseph Wachutka,...         0   0.5   \n",
       "6   [Narendra Mukherjee, Joseph Wachutka, Donald B...         0   1.5   \n",
       "7   [Kathrin Ohla, Ryusuke Yoshida, Stephen D Rope...         0   2.5   \n",
       "8   [Linnea E Herzog, Leila May Pascual, Seneca J ...         0   3.5   \n",
       "10  [Meredith L Blankenship, Maria Grigorova, Dona...         0   4.5   \n",
       "3   [David Levitan, Chenghao Liu, Tracy Yang, Yasu...         1   0.0   \n",
       "4   [Linnea E Herzog, Donald B Katz, Shantanu P Ja...         1   1.0   \n",
       "0          [John Ksander, Donald B Katz, Paul Miller]         0   0.5   \n",
       "1   [Chi-Hong Wu, Raul Ramos, Donald B Katz, Gina ...         0   1.5   \n",
       "2   [Jian-You Lin, Narendra Mukherjee, Max J Berns...         0   2.5   \n",
       "\n",
       "       First Author                Summary  \\\n",
       "46             Katz             Katz\\n2002   \n",
       "47             Katz             Katz\\n2002   \n",
       "45        Fontanini        Fontanini\\n2005   \n",
       "41        Fontanini        Fontanini\\n2006   \n",
       "43            Jones            Jones\\n2006   \n",
       "39            Jones            Jones\\n2007   \n",
       "40           Giorgi           Giorgi\\n2007   \n",
       "35             Katz             Katz\\n2008   \n",
       "36        Fontanini        Fontanini\\n2008   \n",
       "37            Caras            Caras\\n2008   \n",
       "38         Grossman         Grossman\\n2008   \n",
       "34        Fontanini        Fontanini\\n2009   \n",
       "32  Fortis-Santiago  Fortis-Santiago\\n2010   \n",
       "33           Miller           Miller\\n2010   \n",
       "29        Neseliler        Neseliler\\n2011   \n",
       "30             Katz             Katz\\n2011   \n",
       "31          Yoshida          Yoshida\\n2011   \n",
       "25            Maier            Maier\\n2012   \n",
       "26          Sadacca          Sadacca\\n2012   \n",
       "27           Piette           Piette\\n2012   \n",
       "28            Zhang            Zhang\\n2012   \n",
       "20           Hengen           Hengen\\n2013   \n",
       "21             Yael             Yael\\n2013   \n",
       "22           Miller           Miller\\n2013   \n",
       "23               Li               Li\\n2013   \n",
       "24            Maier            Maier\\n2013   \n",
       "17            Pavão            Pavão\\n2014   \n",
       "18            Moran            Moran\\n2014   \n",
       "19             Monk             Monk\\n2014   \n",
       "15            Maier            Maier\\n2015   \n",
       "11          Levitan          Levitan\\n2016   \n",
       "12               Li               Li\\n2016   \n",
       "13           Flores           Flores\\n2016   \n",
       "14    Baez-Santiago    Baez-Santiago\\n2016   \n",
       "16          Sadacca          Sadacca\\n2016   \n",
       "9            Flores           Flores\\n2018   \n",
       "5           Levitan          Levitan\\n2019   \n",
       "6         Mukherjee        Mukherjee\\n2019   \n",
       "7              Ohla             Ohla\\n2019   \n",
       "8            Herzog           Herzog\\n2019   \n",
       "10      Blankenship      Blankenship\\n2019   \n",
       "3           Levitan          Levitan\\n2020   \n",
       "4            Herzog           Herzog\\n2020   \n",
       "0           Ksander          Ksander\\n2021   \n",
       "1                Wu               Wu\\n2021   \n",
       "2               Lin              Lin\\n2021   \n",
       "\n",
       "                                       Authors_pretty   Fin_Article_Type  \\\n",
       "46                [Donald B Katz, Joseph E Steinmetz]             Review   \n",
       "47  [Donald B Katz, Miguel A L Nicolelis, Sidney A...             Review   \n",
       "45                 [Alfredo Fontanini, Donald B Katz]  Comparative Study   \n",
       "41                 [Alfredo Fontanini, Donald B Katz]    Journal Article   \n",
       "43  [Lauren M Jones, Alfredo Fontanini, Donald B K...             Review   \n",
       "39  [Lauren M Jones, Alfredo Fontanini, Brian F Sa...    Journal Article   \n",
       "40  [Corinna Giorgi, Gene W Yeo, Martha E Stone, D...    Journal Article   \n",
       "35  [Donald B Katz, Hiroaki Matsunami, Dmitry Rinb...             Review   \n",
       "36                 [Alfredo Fontanini, Donald B Katz]             Review   \n",
       "37  [Melissa L Caras, Kimberly MacKenzie, Benjamin...    Journal Article   \n",
       "38  [Stephen E Grossman, Alfredo Fontanini, Jeffre...  Comparative Study   \n",
       "34                 [Alfredo Fontanini, Donald B Katz]             Review   \n",
       "32  [Yaihara Fortis-Santiago, Benjamin A Rodwin, S...    Journal Article   \n",
       "33                       [Paul Miller, Donald B Katz]    Journal Article   \n",
       "29  [Selin Neseliler, Darshana Narayanan, Yaihara ...    Journal Article   \n",
       "30                     [Donald B Katz, Joost X Maier]            Comment   \n",
       "31                   [Takashi Yoshida, Donald B Katz]    Journal Article   \n",
       "25     [Joost X Maier, Matt Wachowiak, Donald B Katz]    Journal Article   \n",
       "26  [Brian F Sadacca, Jason T Rothwax, Donald B Katz]    Journal Article   \n",
       "27  [Caitlin E Piette, Madelyn A Baez-Santiago, Em...    Journal Article   \n",
       "28  [Yuchun Zhang, Takashi Yoshida, Donald B Katz,...    Journal Article   \n",
       "20  [Keith B Hengen, Mary E Lambo, Stephen D Van H...    Journal Article   \n",
       "21  [Dorin Yael, Dagmar H Zeef, Daniel Sand, Anan ...    Journal Article   \n",
       "22                       [Paul Miller, Donald B Katz]  Comparative Study   \n",
       "23  [Jennifer X Li, Takashi Yoshida, Kevin J Monk,...    Journal Article   \n",
       "24                     [Joost X Maier, Donald B Katz]    Journal Article   \n",
       "17  [Rodrigo Pavão, Caitlin E Piette, Vítor Lopes-...    Journal Article   \n",
       "18                        [Anan Moran, Donald B Katz]    Journal Article   \n",
       "19  [Kevin J Monk, Benjamin D Rubin, Jennifer C Ke...    Journal Article   \n",
       "15  [Joost X Maier, Meredith L Blankenship, Jennif...    Journal Article   \n",
       "11  [David Levitan, Yaihara Fortis-Santiago, Joshu...    Journal Article   \n",
       "12  [Jennifer X Li, Joost X Maier, Emily E Reid, D...    Journal Article   \n",
       "13  [Veronica L Flores, Anan Moran, Max Bernstein,...    Journal Article   \n",
       "14  [Madelyn A Baez-Santiago, Emily E Reid, Anan M...    Journal Article   \n",
       "16  [Brian F Sadacca, Narendra Mukherjee, Tony Vla...    Journal Article   \n",
       "9   [Veronica L Flores, Tamar Parmet, Narendra Muk...    Journal Article   \n",
       "5   [David Levitan, Jian-You Lin, Joseph Wachutka,...    Journal Article   \n",
       "6   [Narendra Mukherjee, Joseph Wachutka, Donald B...    Journal Article   \n",
       "7   [Kathrin Ohla, Ryusuke Yoshida, Stephen D Rope...             Review   \n",
       "8   [Linnea E Herzog, Leila May Pascual, Seneca J ...    Journal Article   \n",
       "10  [Meredith L Blankenship, Maria Grigorova, Dona...    Journal Article   \n",
       "3   [David Levitan, Chenghao Liu, Tracy Yang, Yasu...    Journal Article   \n",
       "4   [Linnea E Herzog, Donald B Katz, Shantanu P Ja...    Journal Article   \n",
       "0          [John Ksander, Donald B Katz, Paul Miller]    Journal Article   \n",
       "1   [Chi-Hong Wu, Raul Ramos, Donald B Katz, Gina ...    Journal Article   \n",
       "2   [Jian-You Lin, Narendra Mukherjee, Max J Berns...    Journal Article   \n",
       "\n",
       "    scatter_size                                       Title_Pretty  \n",
       "46            40         Psychological functions of the cerebellum.  \n",
       "47            40   Gustatory processing is dynamic and distributed.  \n",
       "45            40  7 to 12 Hz activity in rat gustatory<br>cortex...  \n",
       "41            40  State-dependent modulation of time-varying gus...  \n",
       "43            40  Gustatory processing: a dynamic systems approach.  \n",
       "39            40  Natural stimuli evoke dynamic sequences of<br>...  \n",
       "40            40  The EJC factor eIF4AIII modulates synaptic<br>...  \n",
       "35            40  Receptors, circuits, and behaviors: new<br>dir...  \n",
       "36            40  Behavioral states, network states, and sensory...  \n",
       "37            40  Investigating the motivational mechanism of al...  \n",
       "38            40  Learning-related plasticity of temporal coding...  \n",
       "34            40  Behavioral modulation of gustatory cortical ac...  \n",
       "32            40  State dependence of olfactory perception as<br...  \n",
       "33            40  Stochastic transitions between neural states<b...  \n",
       "29            40  Genetically induced cholinergic hyper-innervat...  \n",
       "30            40     Olfactory bulb: odor signals put into context.  \n",
       "31            40  Control of prestimulus activity related to imp...  \n",
       "25            40  Chemosensory convergence on primary olfactory ...  \n",
       "26            40  Sodium concentration coding gives way to<br>ev...  \n",
       "27            40  Inactivation of basolateral amygdala specifica...  \n",
       "28            40  NMDAR antagonist action in thalamus imposes<br...  \n",
       "20            40  Firing rate homeostasis in visual<br>cortex of...  \n",
       "21            40  Haloperidol-induced changes in neuronal activi...  \n",
       "22            40  Accuracy and response-time distributions for d...  \n",
       "23            40  Lateral hypothalamus contains two types of<br>...  \n",
       "24            40  Neural dynamics in response to binary taste mi...  \n",
       "17            40  Local field potentials in the<br>gustatory cor...  \n",
       "18            40  Sensory cortical population dynamics uniquely ...  \n",
       "19            40  Licking microstructure reveals rapid attenuati...  \n",
       "15            40   A Multisensory Network for Olfactory Processing.  \n",
       "11            40  Memory Retrieval Has a Dynamic Influence<br>on...  \n",
       "12            40  Sensory Cortical Activity Is Related to the<br...  \n",
       "13            40  Preexposure to salty and sour taste enhances<b...  \n",
       "14            40  Dynamic taste responses of parabrachial<br>pon...  \n",
       "16            40  The Behavioral Relevance of Cortical<br>Neural...  \n",
       "9             40  The role of the gustatory cortex in<br>inciden...  \n",
       "5             40  Single and population coding of taste in<br>th...  \n",
       "6             40  Impact of precisely-timed inhibition of gustat...  \n",
       "7             40  Recognizing Taste: Coding Patterns Along<br>th...  \n",
       "8             40  Interaction of Taste and Place<br>Coding in th...  \n",
       "10            40  Retronasal Odor Perception Requires Taste<br>C...  \n",
       "3             40  Deletion of <i>Stk11</i> and <i>Fos</i> in mou...  \n",
       "4             40  Refinement and Reactivation of a Taste-Respons...  \n",
       "0             40  A model of naturalistic decision<br>making in ...  \n",
       "1             40  Homeostatic synaptic scaling establishes the<b...  \n",
       "2             40  Perturbation of amygdala-cortical projections ...  "
      ]
     },
     "execution_count": 237,
     "metadata": {},
     "output_type": "execute_result"
    }
   ],
   "source": [
    "paper_frame"
   ]
  },
  {
   "cell_type": "code",
   "execution_count": 246,
   "metadata": {
    "scrolled": false
   },
   "outputs": [
    {
     "data": {
      "application/vnd.plotly.v1+json": {
       "config": {
        "plotlyServerURL": "https://plot.ly"
       },
       "data": [
        {
         "customdata": [
          [
           "Psychological functions of the cerebellum.",
           [
            "Donald B Katz",
            "Joseph E Steinmetz"
           ]
          ],
          [
           "Gustatory processing is dynamic and distributed.",
           [
            "Donald B Katz",
            "Miguel A L Nicolelis",
            "Sidney A Simon"
           ]
          ],
          [
           "Gustatory processing: a dynamic systems approach.",
           [
            "Lauren M Jones",
            "Alfredo Fontanini",
            "Donald B Katz"
           ]
          ],
          [
           "Receptors, circuits, and behaviors: new<br>directions in chemical senses.",
           [
            "Donald B Katz",
            "Hiroaki Matsunami",
            "Dmitry Rinberg",
            "Kristin Scott",
            "et al."
           ]
          ],
          [
           "Behavioral states, network states, and sensory response variability.",
           [
            "Alfredo Fontanini",
            "Donald B Katz"
           ]
          ],
          [
           "Behavioral modulation of gustatory cortical activity.",
           [
            "Alfredo Fontanini",
            "Donald B Katz"
           ]
          ],
          [
           "Recognizing Taste: Coding Patterns Along<br>the Neural Axis in Mammals.",
           [
            "Kathrin Ohla",
            "Ryusuke Yoshida",
            "Stephen D Roper",
            "Patricia M Di Lorenzo",
            "et al."
           ]
          ]
         ],
         "hovertemplate": "<b>%{customdata[0]}</b><br>%{x}<br>%{customdata[1]}",
         "hovertext": [
          "Psychological functions of the cerebellum.",
          "Gustatory processing is dynamic and distributed.",
          "Gustatory processing: a dynamic systems approach.",
          "Receptors, circuits, and behaviors: new directions in chemical senses.",
          "Behavioral states, network states, and sensory response variability.",
          "Behavioral modulation of gustatory cortical activity.",
          "Recognizing Taste: Coding Patterns Along the Neural Axis in Mammals."
         ],
         "legendgroup": "Review",
         "marker": {
          "color": "#636efa",
          "size": [
           40,
           40,
           40,
           40,
           40,
           40,
           40
          ],
          "sizemode": "area",
          "sizeref": 0.016,
          "symbol": "circle"
         },
         "mode": "markers+text",
         "name": "Review",
         "orientation": "v",
         "showlegend": true,
         "text": [
          "Katz\n2002",
          "Katz\n2002",
          "Jones\n2006",
          "Katz\n2008",
          "Fontanini\n2008",
          "Fontanini\n2009",
          "Ohla\n2019"
         ],
         "type": "scatter",
         "x": [
          2002,
          2002,
          2006,
          2008,
          2008,
          2009,
          2019
         ],
         "xaxis": "x",
         "y": [
          0,
          1,
          1,
          0,
          1,
          0.5,
          2.5
         ],
         "yaxis": "y"
        },
        {
         "customdata": [
          [
           "7 to 12 Hz activity in rat gustatory<br>cortex reflects disengagement from a fluid self-administration task.",
           [
            "Alfredo Fontanini",
            "Donald B Katz"
           ]
          ],
          [
           "Learning-related plasticity of temporal coding<br>in simultaneously recorded amygdala-cortical ensembles.",
           [
            "Stephen E Grossman",
            "Alfredo Fontanini",
            "Jeffrey S Wieskopf",
            "Donald B Katz"
           ]
          ],
          [
           "Accuracy and response-time distributions for decision-making: linear<br>perfect integrators versus nonlinear attractor-based neural circuits.",
           [
            "Paul Miller",
            "Donald B Katz"
           ]
          ]
         ],
         "hovertemplate": "<b>%{customdata[0]}</b><br>%{x}<br>%{customdata[1]}",
         "hovertext": [
          "7 to 12 Hz activity in rat gustatory cortex reflects disengagement from a fluid self-administration task.",
          "Learning-related plasticity of temporal coding in simultaneously recorded amygdala-cortical ensembles.",
          "Accuracy and response-time distributions for decision-making: linear perfect integrators versus nonlinear attractor-based neural circuits."
         ],
         "legendgroup": "Comparative Study",
         "marker": {
          "color": "#EF553B",
          "size": [
           40,
           40,
           40
          ],
          "sizemode": "area",
          "sizeref": 0.016,
          "symbol": "circle"
         },
         "mode": "markers+text",
         "name": "Comparative Study",
         "orientation": "v",
         "showlegend": true,
         "text": [
          "Fontanini\n2005",
          "Grossman\n2008",
          "Miller\n2013"
         ],
         "type": "scatter",
         "x": [
          2005,
          2008,
          2013
         ],
         "xaxis": "x",
         "y": [
          0.5,
          3,
          2.5
         ],
         "yaxis": "y"
        },
        {
         "customdata": [
          [
           "State-dependent modulation of time-varying gustatory responses.",
           [
            "Alfredo Fontanini",
            "Donald B Katz"
           ]
          ],
          [
           "Natural stimuli evoke dynamic sequences of<br>states in sensory cortical ensembles.",
           [
            "Lauren M Jones",
            "Alfredo Fontanini",
            "Brian F Sadacca",
            "Paul Miller",
            "et al."
           ]
          ],
          [
           "The EJC factor eIF4AIII modulates synaptic<br>strength and neuronal protein expression.",
           [
            "Corinna Giorgi",
            "Gene W Yeo",
            "Martha E Stone",
            "Donald B Katz",
            "et al."
           ]
          ],
          [
           "Investigating the motivational mechanism of altered<br>saline consumption following 5-HT(1A) manipulation.",
           [
            "Melissa L Caras",
            "Kimberly MacKenzie",
            "Benjamin Rodwin",
            "Donald B Katz"
           ]
          ],
          [
           "State dependence of olfactory perception as<br>a function of taste cortical inactivation.",
           [
            "Yaihara Fortis-Santiago",
            "Benjamin A Rodwin",
            "Selin Neseliler",
            "Caitlin E Piette",
            "et al."
           ]
          ],
          [
           "Stochastic transitions between neural states<br>in taste processing and decision-making.",
           [
            "Paul Miller",
            "Donald B Katz"
           ]
          ],
          [
           "Genetically induced cholinergic hyper-innervation enhances taste learning.",
           [
            "Selin Neseliler",
            "Darshana Narayanan",
            "Yaihara Fortis-Santiago",
            "Donald B Katz",
            "et al."
           ]
          ],
          [
           "Control of prestimulus activity related to improved<br>sensory coding within a discrimination task.",
           [
            "Takashi Yoshida",
            "Donald B Katz"
           ]
          ],
          [
           "Chemosensory convergence on primary olfactory cortex.",
           [
            "Joost X Maier",
            "Matt Wachowiak",
            "Donald B Katz"
           ]
          ],
          [
           "Sodium concentration coding gives way to<br>evaluative coding in cortex and amygdala.",
           [
            "Brian F Sadacca",
            "Jason T Rothwax",
            "Donald B Katz"
           ]
          ],
          [
           "Inactivation of basolateral amygdala specifically eliminates<br>palatability-related information in cortical sensory responses.",
           [
            "Caitlin E Piette",
            "Madelyn A Baez-Santiago",
            "Emily E Reid",
            "Donald B Katz",
            "et al."
           ]
          ],
          [
           "NMDAR antagonist action in thalamus imposes<br>δ oscillations on the hippocampus.",
           [
            "Yuchun Zhang",
            "Takashi Yoshida",
            "Donald B Katz",
            "John E Lisman"
           ]
          ],
          [
           "Firing rate homeostasis in visual<br>cortex of freely behaving rodents.",
           [
            "Keith B Hengen",
            "Mary E Lambo",
            "Stephen D Van Hooser",
            "Donald B Katz",
            "et al."
           ]
          ],
          [
           "Haloperidol-induced changes in neuronal activity in the<br>striatum of the freely moving rat.",
           [
            "Dorin Yael",
            "Dagmar H Zeef",
            "Daniel Sand",
            "Anan Moran",
            "et al."
           ]
          ],
          [
           "Lateral hypothalamus contains two types of<br>palatability-related taste responses with distinct dynamics.",
           [
            "Jennifer X Li",
            "Takashi Yoshida",
            "Kevin J Monk",
            "Donald B Katz"
           ]
          ],
          [
           "Neural dynamics in response to binary taste mixtures.",
           [
            "Joost X Maier",
            "Donald B Katz"
           ]
          ],
          [
           "Local field potentials in the<br>gustatory cortex carry taste information.",
           [
            "Rodrigo Pavão",
            "Caitlin E Piette",
            "Vítor Lopes-dos-Santos",
            "Donald B Katz",
            "et al."
           ]
          ],
          [
           "Sensory cortical population dynamics uniquely track<br>behavior across learning and extinction.",
           [
            "Anan Moran",
            "Donald B Katz"
           ]
          ],
          [
           "Licking microstructure reveals rapid attenuation of neophobia.",
           [
            "Kevin J Monk",
            "Benjamin D Rubin",
            "Jennifer C Keene",
            "Donald B Katz"
           ]
          ],
          [
           "A Multisensory Network for Olfactory Processing.",
           [
            "Joost X Maier",
            "Meredith L Blankenship",
            "Jennifer X Li",
            "Donald B Katz"
           ]
          ],
          [
           "Memory Retrieval Has a Dynamic Influence<br>on the Maintenance Mechanisms That Are<br>Sensitive to ζ-Inhibitory Peptide (ZIP).",
           [
            "David Levitan",
            "Yaihara Fortis-Santiago",
            "Joshua A Figueroa",
            "Emily E Reid",
            "et al."
           ]
          ],
          [
           "Sensory Cortical Activity Is Related to the<br>Selection of a Rhythmic Motor Action Pattern.",
           [
            "Jennifer X Li",
            "Joost X Maier",
            "Emily E Reid",
            "Donald B Katz"
           ]
          ],
          [
           "Preexposure to salty and sour taste enhances<br>conditioned taste aversion to novel sucrose.",
           [
            "Veronica L Flores",
            "Anan Moran",
            "Max Bernstein",
            "Donald B Katz"
           ]
          ],
          [
           "Dynamic taste responses of parabrachial<br>pontine neurons in awake rats.",
           [
            "Madelyn A Baez-Santiago",
            "Emily E Reid",
            "Anan Moran",
            "Joost X Maier",
            "et al."
           ]
          ],
          [
           "The Behavioral Relevance of Cortical<br>Neural Ensemble Responses Emerges Suddenly.",
           [
            "Brian F Sadacca",
            "Narendra Mukherjee",
            "Tony Vladusich",
            "Jennifer X Li",
            "et al."
           ]
          ],
          [
           "The role of the gustatory cortex in<br>incidental experience-evoked enhancement of later taste learning.",
           [
            "Veronica L Flores",
            "Tamar Parmet",
            "Narendra Mukherjee",
            "Sacha Nelson",
            "et al."
           ]
          ],
          [
           "Single and population coding of taste in<br>the gustatory cortex of awake mice.",
           [
            "David Levitan",
            "Jian-You Lin",
            "Joseph Wachutka",
            "Narendra Mukherjee",
            "et al."
           ]
          ],
          [
           "Impact of precisely-timed inhibition of gustatory cortex on<br>taste behavior depends on single-trial ensemble dynamics.",
           [
            "Narendra Mukherjee",
            "Joseph Wachutka",
            "Donald B Katz"
           ]
          ],
          [
           "Interaction of Taste and Place<br>Coding in the Hippocampus.",
           [
            "Linnea E Herzog",
            "Leila May Pascual",
            "Seneca J Scott",
            "Elon R Mathieson",
            "et al."
           ]
          ],
          [
           "Retronasal Odor Perception Requires Taste<br>Cortex, but Orthonasal Does Not.",
           [
            "Meredith L Blankenship",
            "Maria Grigorova",
            "Donald B Katz",
            "Joost X Maier"
           ]
          ],
          [
           "Deletion of <i>Stk11</i> and <i>Fos</i> in mouse<br>BLA projection neurons alters intrinsic excitability and<br>impairs formation of long-term aversive memory.",
           [
            "David Levitan",
            "Chenghao Liu",
            "Tracy Yang",
            "Yasuyuki Shima",
            "et al."
           ]
          ],
          [
           "Refinement and Reactivation of a Taste-Responsive Hippocampal Network.",
           [
            "Linnea E Herzog",
            "Donald B Katz",
            "Shantanu P Jadhav"
           ]
          ],
          [
           "A model of naturalistic decision<br>making in preference tests.",
           [
            "John Ksander",
            "Donald B Katz",
            "Paul Miller"
           ]
          ],
          [
           "Homeostatic synaptic scaling establishes the<br>specificity of an associative memory.",
           [
            "Chi-Hong Wu",
            "Raul Ramos",
            "Donald B Katz",
            "Gina G Turrigiano"
           ]
          ],
          [
           "Perturbation of amygdala-cortical projections reduces ensemble coherence<br>of palatability coding in gustatory cortex.",
           [
            "Jian-You Lin",
            "Narendra Mukherjee",
            "Max J Bernstein",
            "Donald B Katz"
           ]
          ]
         ],
         "hovertemplate": "<b>%{customdata[0]}</b><br>%{x}<br>%{customdata[1]}",
         "hovertext": [
          "State-dependent modulation of time-varying gustatory responses.",
          "Natural stimuli evoke dynamic sequences of states in sensory cortical ensembles.",
          "The EJC factor eIF4AIII modulates synaptic strength and neuronal protein expression.",
          "Investigating the motivational mechanism of altered saline consumption following 5-HT(1A) manipulation.",
          "State dependence of olfactory perception as a function of taste cortical inactivation.",
          "Stochastic transitions between neural states in taste processing and decision-making.",
          "Genetically induced cholinergic hyper-innervation enhances taste learning.",
          "Control of prestimulus activity related to improved sensory coding within a discrimination task.",
          "Chemosensory convergence on primary olfactory cortex.",
          "Sodium concentration coding gives way to evaluative coding in cortex and amygdala.",
          "Inactivation of basolateral amygdala specifically eliminates palatability-related information in cortical sensory responses.",
          "NMDAR antagonist action in thalamus imposes δ oscillations on the hippocampus.",
          "Firing rate homeostasis in visual cortex of freely behaving rodents.",
          "Haloperidol-induced changes in neuronal activity in the striatum of the freely moving rat.",
          "Lateral hypothalamus contains two types of palatability-related taste responses with distinct dynamics.",
          "Neural dynamics in response to binary taste mixtures.",
          "Local field potentials in the gustatory cortex carry taste information.",
          "Sensory cortical population dynamics uniquely track behavior across learning and extinction.",
          "Licking microstructure reveals rapid attenuation of neophobia.",
          "A Multisensory Network for Olfactory Processing.",
          "Memory Retrieval Has a Dynamic Influence on the Maintenance Mechanisms That Are Sensitive to ζ-Inhibitory Peptide (ZIP).",
          "Sensory Cortical Activity Is Related to the Selection of a Rhythmic Motor Action Pattern.",
          "Preexposure to salty and sour taste enhances conditioned taste aversion to novel sucrose.",
          "Dynamic taste responses of parabrachial pontine neurons in awake rats.",
          "The Behavioral Relevance of Cortical Neural Ensemble Responses Emerges Suddenly.",
          "The role of the gustatory cortex in incidental experience-evoked enhancement of later taste learning.",
          "Single and population coding of taste in the gustatory cortex of awake mice.",
          "Impact of precisely-timed inhibition of gustatory cortex on taste behavior depends on single-trial ensemble dynamics.",
          "Interaction of Taste and Place Coding in the Hippocampus.",
          "Retronasal Odor Perception Requires Taste Cortex, but Orthonasal Does Not.",
          "Deletion of <i>Stk11</i> and <i>Fos</i> in mouse BLA projection neurons alters intrinsic excitability and impairs formation of long-term aversive memory.",
          "Refinement and Reactivation of a Taste-Responsive Hippocampal Network.",
          "A model of naturalistic decision making in preference tests.",
          "Homeostatic synaptic scaling establishes the specificity of an associative memory.",
          "Perturbation of amygdala-cortical projections reduces ensemble coherence of palatability coding in gustatory cortex."
         ],
         "legendgroup": "Journal Article",
         "marker": {
          "color": "#00cc96",
          "size": [
           40,
           40,
           40,
           40,
           40,
           40,
           40,
           40,
           40,
           40,
           40,
           40,
           40,
           40,
           40,
           40,
           40,
           40,
           40,
           40,
           40,
           40,
           40,
           40,
           40,
           40,
           40,
           40,
           40,
           40,
           40,
           40,
           40,
           40,
           40
          ],
          "sizemode": "area",
          "sizeref": 0.016,
          "symbol": "circle"
         },
         "mode": "markers+text",
         "name": "Journal Article",
         "orientation": "v",
         "showlegend": true,
         "text": [
          "Fontanini\n2006",
          "Jones\n2007",
          "Giorgi\n2007",
          "Caras\n2008",
          "Fortis-Santiago\n2010",
          "Miller\n2010",
          "Neseliler\n2011",
          "Yoshida\n2011",
          "Maier\n2012",
          "Sadacca\n2012",
          "Piette\n2012",
          "Zhang\n2012",
          "Hengen\n2013",
          "Yael\n2013",
          "Li\n2013",
          "Maier\n2013",
          "Pavão\n2014",
          "Moran\n2014",
          "Monk\n2014",
          "Maier\n2015",
          "Levitan\n2016",
          "Li\n2016",
          "Flores\n2016",
          "Baez-Santiago\n2016",
          "Sadacca\n2016",
          "Flores\n2018",
          "Levitan\n2019",
          "Mukherjee\n2019",
          "Herzog\n2019",
          "Blankenship\n2019",
          "Levitan\n2020",
          "Herzog\n2020",
          "Ksander\n2021",
          "Wu\n2021",
          "Lin\n2021"
         ],
         "type": "scatter",
         "x": [
          2006,
          2007,
          2007,
          2008,
          2010,
          2010,
          2011,
          2011,
          2012,
          2012,
          2012,
          2012,
          2013,
          2013,
          2013,
          2013,
          2014,
          2014,
          2014,
          2015,
          2016,
          2016,
          2016,
          2016,
          2016,
          2018,
          2019,
          2019,
          2019,
          2019,
          2020,
          2020,
          2021,
          2021,
          2021
         ],
         "xaxis": "x",
         "y": [
          0,
          0.5,
          1.5,
          2,
          0,
          1,
          0.5,
          2.5,
          0,
          1,
          2,
          3,
          0.5,
          1.5,
          3.5,
          4.5,
          0,
          1,
          2,
          0.5,
          0,
          1,
          2,
          3,
          4,
          0,
          0.5,
          1.5,
          3.5,
          4.5,
          0,
          1,
          0.5,
          1.5,
          2.5
         ],
         "yaxis": "y"
        },
        {
         "customdata": [
          [
           "Olfactory bulb: odor signals put into context.",
           [
            "Donald B Katz",
            "Joost X Maier"
           ]
          ]
         ],
         "hovertemplate": "<b>%{customdata[0]}</b><br>%{x}<br>%{customdata[1]}",
         "hovertext": [
          "Olfactory bulb: odor signals put into context."
         ],
         "legendgroup": "Comment",
         "marker": {
          "color": "#ab63fa",
          "size": [
           40
          ],
          "sizemode": "area",
          "sizeref": 0.016,
          "symbol": "circle"
         },
         "mode": "markers+text",
         "name": "Comment",
         "orientation": "v",
         "showlegend": true,
         "text": [
          "Katz\n2011"
         ],
         "type": "scatter",
         "x": [
          2011
         ],
         "xaxis": "x",
         "y": [
          1.5
         ],
         "yaxis": "y"
        }
       ],
       "layout": {
        "height": 1000,
        "legend": {
         "itemsizing": "constant",
         "title": {
          "text": "Fin_Article_Type"
         },
         "tracegroupgap": 0
        },
        "margin": {
         "t": 60
        },
        "template": {
         "data": {
          "bar": [
           {
            "error_x": {
             "color": "#2a3f5f"
            },
            "error_y": {
             "color": "#2a3f5f"
            },
            "marker": {
             "line": {
              "color": "#E5ECF6",
              "width": 0.5
             },
             "pattern": {
              "fillmode": "overlay",
              "size": 10,
              "solidity": 0.2
             }
            },
            "type": "bar"
           }
          ],
          "barpolar": [
           {
            "marker": {
             "line": {
              "color": "#E5ECF6",
              "width": 0.5
             },
             "pattern": {
              "fillmode": "overlay",
              "size": 10,
              "solidity": 0.2
             }
            },
            "type": "barpolar"
           }
          ],
          "carpet": [
           {
            "aaxis": {
             "endlinecolor": "#2a3f5f",
             "gridcolor": "white",
             "linecolor": "white",
             "minorgridcolor": "white",
             "startlinecolor": "#2a3f5f"
            },
            "baxis": {
             "endlinecolor": "#2a3f5f",
             "gridcolor": "white",
             "linecolor": "white",
             "minorgridcolor": "white",
             "startlinecolor": "#2a3f5f"
            },
            "type": "carpet"
           }
          ],
          "choropleth": [
           {
            "colorbar": {
             "outlinewidth": 0,
             "ticks": ""
            },
            "type": "choropleth"
           }
          ],
          "contour": [
           {
            "colorbar": {
             "outlinewidth": 0,
             "ticks": ""
            },
            "colorscale": [
             [
              0,
              "#0d0887"
             ],
             [
              0.1111111111111111,
              "#46039f"
             ],
             [
              0.2222222222222222,
              "#7201a8"
             ],
             [
              0.3333333333333333,
              "#9c179e"
             ],
             [
              0.4444444444444444,
              "#bd3786"
             ],
             [
              0.5555555555555556,
              "#d8576b"
             ],
             [
              0.6666666666666666,
              "#ed7953"
             ],
             [
              0.7777777777777778,
              "#fb9f3a"
             ],
             [
              0.8888888888888888,
              "#fdca26"
             ],
             [
              1,
              "#f0f921"
             ]
            ],
            "type": "contour"
           }
          ],
          "contourcarpet": [
           {
            "colorbar": {
             "outlinewidth": 0,
             "ticks": ""
            },
            "type": "contourcarpet"
           }
          ],
          "heatmap": [
           {
            "colorbar": {
             "outlinewidth": 0,
             "ticks": ""
            },
            "colorscale": [
             [
              0,
              "#0d0887"
             ],
             [
              0.1111111111111111,
              "#46039f"
             ],
             [
              0.2222222222222222,
              "#7201a8"
             ],
             [
              0.3333333333333333,
              "#9c179e"
             ],
             [
              0.4444444444444444,
              "#bd3786"
             ],
             [
              0.5555555555555556,
              "#d8576b"
             ],
             [
              0.6666666666666666,
              "#ed7953"
             ],
             [
              0.7777777777777778,
              "#fb9f3a"
             ],
             [
              0.8888888888888888,
              "#fdca26"
             ],
             [
              1,
              "#f0f921"
             ]
            ],
            "type": "heatmap"
           }
          ],
          "heatmapgl": [
           {
            "colorbar": {
             "outlinewidth": 0,
             "ticks": ""
            },
            "colorscale": [
             [
              0,
              "#0d0887"
             ],
             [
              0.1111111111111111,
              "#46039f"
             ],
             [
              0.2222222222222222,
              "#7201a8"
             ],
             [
              0.3333333333333333,
              "#9c179e"
             ],
             [
              0.4444444444444444,
              "#bd3786"
             ],
             [
              0.5555555555555556,
              "#d8576b"
             ],
             [
              0.6666666666666666,
              "#ed7953"
             ],
             [
              0.7777777777777778,
              "#fb9f3a"
             ],
             [
              0.8888888888888888,
              "#fdca26"
             ],
             [
              1,
              "#f0f921"
             ]
            ],
            "type": "heatmapgl"
           }
          ],
          "histogram": [
           {
            "marker": {
             "pattern": {
              "fillmode": "overlay",
              "size": 10,
              "solidity": 0.2
             }
            },
            "type": "histogram"
           }
          ],
          "histogram2d": [
           {
            "colorbar": {
             "outlinewidth": 0,
             "ticks": ""
            },
            "colorscale": [
             [
              0,
              "#0d0887"
             ],
             [
              0.1111111111111111,
              "#46039f"
             ],
             [
              0.2222222222222222,
              "#7201a8"
             ],
             [
              0.3333333333333333,
              "#9c179e"
             ],
             [
              0.4444444444444444,
              "#bd3786"
             ],
             [
              0.5555555555555556,
              "#d8576b"
             ],
             [
              0.6666666666666666,
              "#ed7953"
             ],
             [
              0.7777777777777778,
              "#fb9f3a"
             ],
             [
              0.8888888888888888,
              "#fdca26"
             ],
             [
              1,
              "#f0f921"
             ]
            ],
            "type": "histogram2d"
           }
          ],
          "histogram2dcontour": [
           {
            "colorbar": {
             "outlinewidth": 0,
             "ticks": ""
            },
            "colorscale": [
             [
              0,
              "#0d0887"
             ],
             [
              0.1111111111111111,
              "#46039f"
             ],
             [
              0.2222222222222222,
              "#7201a8"
             ],
             [
              0.3333333333333333,
              "#9c179e"
             ],
             [
              0.4444444444444444,
              "#bd3786"
             ],
             [
              0.5555555555555556,
              "#d8576b"
             ],
             [
              0.6666666666666666,
              "#ed7953"
             ],
             [
              0.7777777777777778,
              "#fb9f3a"
             ],
             [
              0.8888888888888888,
              "#fdca26"
             ],
             [
              1,
              "#f0f921"
             ]
            ],
            "type": "histogram2dcontour"
           }
          ],
          "mesh3d": [
           {
            "colorbar": {
             "outlinewidth": 0,
             "ticks": ""
            },
            "type": "mesh3d"
           }
          ],
          "parcoords": [
           {
            "line": {
             "colorbar": {
              "outlinewidth": 0,
              "ticks": ""
             }
            },
            "type": "parcoords"
           }
          ],
          "pie": [
           {
            "automargin": true,
            "type": "pie"
           }
          ],
          "scatter": [
           {
            "marker": {
             "colorbar": {
              "outlinewidth": 0,
              "ticks": ""
             }
            },
            "type": "scatter"
           }
          ],
          "scatter3d": [
           {
            "line": {
             "colorbar": {
              "outlinewidth": 0,
              "ticks": ""
             }
            },
            "marker": {
             "colorbar": {
              "outlinewidth": 0,
              "ticks": ""
             }
            },
            "type": "scatter3d"
           }
          ],
          "scattercarpet": [
           {
            "marker": {
             "colorbar": {
              "outlinewidth": 0,
              "ticks": ""
             }
            },
            "type": "scattercarpet"
           }
          ],
          "scattergeo": [
           {
            "marker": {
             "colorbar": {
              "outlinewidth": 0,
              "ticks": ""
             }
            },
            "type": "scattergeo"
           }
          ],
          "scattergl": [
           {
            "marker": {
             "colorbar": {
              "outlinewidth": 0,
              "ticks": ""
             }
            },
            "type": "scattergl"
           }
          ],
          "scattermapbox": [
           {
            "marker": {
             "colorbar": {
              "outlinewidth": 0,
              "ticks": ""
             }
            },
            "type": "scattermapbox"
           }
          ],
          "scatterpolar": [
           {
            "marker": {
             "colorbar": {
              "outlinewidth": 0,
              "ticks": ""
             }
            },
            "type": "scatterpolar"
           }
          ],
          "scatterpolargl": [
           {
            "marker": {
             "colorbar": {
              "outlinewidth": 0,
              "ticks": ""
             }
            },
            "type": "scatterpolargl"
           }
          ],
          "scatterternary": [
           {
            "marker": {
             "colorbar": {
              "outlinewidth": 0,
              "ticks": ""
             }
            },
            "type": "scatterternary"
           }
          ],
          "surface": [
           {
            "colorbar": {
             "outlinewidth": 0,
             "ticks": ""
            },
            "colorscale": [
             [
              0,
              "#0d0887"
             ],
             [
              0.1111111111111111,
              "#46039f"
             ],
             [
              0.2222222222222222,
              "#7201a8"
             ],
             [
              0.3333333333333333,
              "#9c179e"
             ],
             [
              0.4444444444444444,
              "#bd3786"
             ],
             [
              0.5555555555555556,
              "#d8576b"
             ],
             [
              0.6666666666666666,
              "#ed7953"
             ],
             [
              0.7777777777777778,
              "#fb9f3a"
             ],
             [
              0.8888888888888888,
              "#fdca26"
             ],
             [
              1,
              "#f0f921"
             ]
            ],
            "type": "surface"
           }
          ],
          "table": [
           {
            "cells": {
             "fill": {
              "color": "#EBF0F8"
             },
             "line": {
              "color": "white"
             }
            },
            "header": {
             "fill": {
              "color": "#C8D4E3"
             },
             "line": {
              "color": "white"
             }
            },
            "type": "table"
           }
          ]
         },
         "layout": {
          "annotationdefaults": {
           "arrowcolor": "#2a3f5f",
           "arrowhead": 0,
           "arrowwidth": 1
          },
          "autotypenumbers": "strict",
          "coloraxis": {
           "colorbar": {
            "outlinewidth": 0,
            "ticks": ""
           }
          },
          "colorscale": {
           "diverging": [
            [
             0,
             "#8e0152"
            ],
            [
             0.1,
             "#c51b7d"
            ],
            [
             0.2,
             "#de77ae"
            ],
            [
             0.3,
             "#f1b6da"
            ],
            [
             0.4,
             "#fde0ef"
            ],
            [
             0.5,
             "#f7f7f7"
            ],
            [
             0.6,
             "#e6f5d0"
            ],
            [
             0.7,
             "#b8e186"
            ],
            [
             0.8,
             "#7fbc41"
            ],
            [
             0.9,
             "#4d9221"
            ],
            [
             1,
             "#276419"
            ]
           ],
           "sequential": [
            [
             0,
             "#0d0887"
            ],
            [
             0.1111111111111111,
             "#46039f"
            ],
            [
             0.2222222222222222,
             "#7201a8"
            ],
            [
             0.3333333333333333,
             "#9c179e"
            ],
            [
             0.4444444444444444,
             "#bd3786"
            ],
            [
             0.5555555555555556,
             "#d8576b"
            ],
            [
             0.6666666666666666,
             "#ed7953"
            ],
            [
             0.7777777777777778,
             "#fb9f3a"
            ],
            [
             0.8888888888888888,
             "#fdca26"
            ],
            [
             1,
             "#f0f921"
            ]
           ],
           "sequentialminus": [
            [
             0,
             "#0d0887"
            ],
            [
             0.1111111111111111,
             "#46039f"
            ],
            [
             0.2222222222222222,
             "#7201a8"
            ],
            [
             0.3333333333333333,
             "#9c179e"
            ],
            [
             0.4444444444444444,
             "#bd3786"
            ],
            [
             0.5555555555555556,
             "#d8576b"
            ],
            [
             0.6666666666666666,
             "#ed7953"
            ],
            [
             0.7777777777777778,
             "#fb9f3a"
            ],
            [
             0.8888888888888888,
             "#fdca26"
            ],
            [
             1,
             "#f0f921"
            ]
           ]
          },
          "colorway": [
           "#636efa",
           "#EF553B",
           "#00cc96",
           "#ab63fa",
           "#FFA15A",
           "#19d3f3",
           "#FF6692",
           "#B6E880",
           "#FF97FF",
           "#FECB52"
          ],
          "font": {
           "color": "#2a3f5f"
          },
          "geo": {
           "bgcolor": "white",
           "lakecolor": "white",
           "landcolor": "#E5ECF6",
           "showlakes": true,
           "showland": true,
           "subunitcolor": "white"
          },
          "hoverlabel": {
           "align": "left"
          },
          "hovermode": "closest",
          "mapbox": {
           "style": "light"
          },
          "paper_bgcolor": "white",
          "plot_bgcolor": "#E5ECF6",
          "polar": {
           "angularaxis": {
            "gridcolor": "white",
            "linecolor": "white",
            "ticks": ""
           },
           "bgcolor": "#E5ECF6",
           "radialaxis": {
            "gridcolor": "white",
            "linecolor": "white",
            "ticks": ""
           }
          },
          "scene": {
           "xaxis": {
            "backgroundcolor": "#E5ECF6",
            "gridcolor": "white",
            "gridwidth": 2,
            "linecolor": "white",
            "showbackground": true,
            "ticks": "",
            "zerolinecolor": "white"
           },
           "yaxis": {
            "backgroundcolor": "#E5ECF6",
            "gridcolor": "white",
            "gridwidth": 2,
            "linecolor": "white",
            "showbackground": true,
            "ticks": "",
            "zerolinecolor": "white"
           },
           "zaxis": {
            "backgroundcolor": "#E5ECF6",
            "gridcolor": "white",
            "gridwidth": 2,
            "linecolor": "white",
            "showbackground": true,
            "ticks": "",
            "zerolinecolor": "white"
           }
          },
          "shapedefaults": {
           "line": {
            "color": "#2a3f5f"
           }
          },
          "ternary": {
           "aaxis": {
            "gridcolor": "white",
            "linecolor": "white",
            "ticks": ""
           },
           "baxis": {
            "gridcolor": "white",
            "linecolor": "white",
            "ticks": ""
           },
           "bgcolor": "#E5ECF6",
           "caxis": {
            "gridcolor": "white",
            "linecolor": "white",
            "ticks": ""
           }
          },
          "title": {
           "x": 0.05
          },
          "xaxis": {
           "automargin": true,
           "gridcolor": "white",
           "linecolor": "white",
           "ticks": "",
           "title": {
            "standoff": 15
           },
           "zerolinecolor": "white",
           "zerolinewidth": 2
          },
          "yaxis": {
           "automargin": true,
           "gridcolor": "white",
           "linecolor": "white",
           "ticks": "",
           "title": {
            "standoff": 15
           },
           "zerolinecolor": "white",
           "zerolinewidth": 2
          }
         }
        },
        "uniformtext": {
         "minsize": 6,
         "mode": "hide"
        },
        "width": 1500,
        "xaxis": {
         "anchor": "y",
         "domain": [
          0,
          1
         ],
         "title": {
          "text": "Publication Date"
         }
        },
        "yaxis": {
         "anchor": "x",
         "domain": [
          0,
          1
         ],
         "title": {
          "text": "Rank"
         }
        }
       }
      },
      "text/html": [
       "<div>                            <div id=\"191d19af-db37-4cec-b622-4a272b60c9dc\" class=\"plotly-graph-div\" style=\"height:1000px; width:1500px;\"></div>            <script type=\"text/javascript\">                require([\"plotly\"], function(Plotly) {                    window.PLOTLYENV=window.PLOTLYENV || {};                                    if (document.getElementById(\"191d19af-db37-4cec-b622-4a272b60c9dc\")) {                    Plotly.newPlot(                        \"191d19af-db37-4cec-b622-4a272b60c9dc\",                        [{\"customdata\":[[\"Psychological functions of the cerebellum.\",[\"Donald B Katz\",\"Joseph E Steinmetz\"]],[\"Gustatory processing is dynamic and distributed.\",[\"Donald B Katz\",\"Miguel A L Nicolelis\",\"Sidney A Simon\"]],[\"Gustatory processing: a dynamic systems approach.\",[\"Lauren M Jones\",\"Alfredo Fontanini\",\"Donald B Katz\"]],[\"Receptors, circuits, and behaviors: new<br>directions in chemical senses.\",[\"Donald B Katz\",\"Hiroaki Matsunami\",\"Dmitry Rinberg\",\"Kristin Scott\",\"et al.\"]],[\"Behavioral states, network states, and sensory response variability.\",[\"Alfredo Fontanini\",\"Donald B Katz\"]],[\"Behavioral modulation of gustatory cortical activity.\",[\"Alfredo Fontanini\",\"Donald B Katz\"]],[\"Recognizing Taste: Coding Patterns Along<br>the Neural Axis in Mammals.\",[\"Kathrin Ohla\",\"Ryusuke Yoshida\",\"Stephen D Roper\",\"Patricia M Di Lorenzo\",\"et al.\"]]],\"hovertemplate\":\"<b>%{customdata[0]}</b><br>%{x}<br>%{customdata[1]}\",\"hovertext\":[\"Psychological functions of the cerebellum.\",\"Gustatory processing is dynamic and distributed.\",\"Gustatory processing: a dynamic systems approach.\",\"Receptors, circuits, and behaviors: new directions in chemical senses.\",\"Behavioral states, network states, and sensory response variability.\",\"Behavioral modulation of gustatory cortical activity.\",\"Recognizing Taste: Coding Patterns Along the Neural Axis in Mammals.\"],\"legendgroup\":\"Review\",\"marker\":{\"color\":\"#636efa\",\"size\":[40,40,40,40,40,40,40],\"sizemode\":\"area\",\"sizeref\":0.016,\"symbol\":\"circle\"},\"mode\":\"markers+text\",\"name\":\"Review\",\"orientation\":\"v\",\"showlegend\":true,\"text\":[\"Katz\\n2002\",\"Katz\\n2002\",\"Jones\\n2006\",\"Katz\\n2008\",\"Fontanini\\n2008\",\"Fontanini\\n2009\",\"Ohla\\n2019\"],\"x\":[2002,2002,2006,2008,2008,2009,2019],\"xaxis\":\"x\",\"y\":[0.0,1.0,1.0,0.0,1.0,0.5,2.5],\"yaxis\":\"y\",\"type\":\"scatter\"},{\"customdata\":[[\"7 to 12 Hz activity in rat gustatory<br>cortex reflects disengagement from a fluid self-administration task.\",[\"Alfredo Fontanini\",\"Donald B Katz\"]],[\"Learning-related plasticity of temporal coding<br>in simultaneously recorded amygdala-cortical ensembles.\",[\"Stephen E Grossman\",\"Alfredo Fontanini\",\"Jeffrey S Wieskopf\",\"Donald B Katz\"]],[\"Accuracy and response-time distributions for decision-making: linear<br>perfect integrators versus nonlinear attractor-based neural circuits.\",[\"Paul Miller\",\"Donald B Katz\"]]],\"hovertemplate\":\"<b>%{customdata[0]}</b><br>%{x}<br>%{customdata[1]}\",\"hovertext\":[\"7 to 12 Hz activity in rat gustatory cortex reflects disengagement from a fluid self-administration task.\",\"Learning-related plasticity of temporal coding in simultaneously recorded amygdala-cortical ensembles.\",\"Accuracy and response-time distributions for decision-making: linear perfect integrators versus nonlinear attractor-based neural circuits.\"],\"legendgroup\":\"Comparative Study\",\"marker\":{\"color\":\"#EF553B\",\"size\":[40,40,40],\"sizemode\":\"area\",\"sizeref\":0.016,\"symbol\":\"circle\"},\"mode\":\"markers+text\",\"name\":\"Comparative Study\",\"orientation\":\"v\",\"showlegend\":true,\"text\":[\"Fontanini\\n2005\",\"Grossman\\n2008\",\"Miller\\n2013\"],\"x\":[2005,2008,2013],\"xaxis\":\"x\",\"y\":[0.5,3.0,2.5],\"yaxis\":\"y\",\"type\":\"scatter\"},{\"customdata\":[[\"State-dependent modulation of time-varying gustatory responses.\",[\"Alfredo Fontanini\",\"Donald B Katz\"]],[\"Natural stimuli evoke dynamic sequences of<br>states in sensory cortical ensembles.\",[\"Lauren M Jones\",\"Alfredo Fontanini\",\"Brian F Sadacca\",\"Paul Miller\",\"et al.\"]],[\"The EJC factor eIF4AIII modulates synaptic<br>strength and neuronal protein expression.\",[\"Corinna Giorgi\",\"Gene W Yeo\",\"Martha E Stone\",\"Donald B Katz\",\"et al.\"]],[\"Investigating the motivational mechanism of altered<br>saline consumption following 5-HT(1A) manipulation.\",[\"Melissa L Caras\",\"Kimberly MacKenzie\",\"Benjamin Rodwin\",\"Donald B Katz\"]],[\"State dependence of olfactory perception as<br>a function of taste cortical inactivation.\",[\"Yaihara Fortis-Santiago\",\"Benjamin A Rodwin\",\"Selin Neseliler\",\"Caitlin E Piette\",\"et al.\"]],[\"Stochastic transitions between neural states<br>in taste processing and decision-making.\",[\"Paul Miller\",\"Donald B Katz\"]],[\"Genetically induced cholinergic hyper-innervation enhances taste learning.\",[\"Selin Neseliler\",\"Darshana Narayanan\",\"Yaihara Fortis-Santiago\",\"Donald B Katz\",\"et al.\"]],[\"Control of prestimulus activity related to improved<br>sensory coding within a discrimination task.\",[\"Takashi Yoshida\",\"Donald B Katz\"]],[\"Chemosensory convergence on primary olfactory cortex.\",[\"Joost X Maier\",\"Matt Wachowiak\",\"Donald B Katz\"]],[\"Sodium concentration coding gives way to<br>evaluative coding in cortex and amygdala.\",[\"Brian F Sadacca\",\"Jason T Rothwax\",\"Donald B Katz\"]],[\"Inactivation of basolateral amygdala specifically eliminates<br>palatability-related information in cortical sensory responses.\",[\"Caitlin E Piette\",\"Madelyn A Baez-Santiago\",\"Emily E Reid\",\"Donald B Katz\",\"et al.\"]],[\"NMDAR antagonist action in thalamus imposes<br>\\u03b4 oscillations on the hippocampus.\",[\"Yuchun Zhang\",\"Takashi Yoshida\",\"Donald B Katz\",\"John E Lisman\"]],[\"Firing rate homeostasis in visual<br>cortex of freely behaving rodents.\",[\"Keith B Hengen\",\"Mary E Lambo\",\"Stephen D Van Hooser\",\"Donald B Katz\",\"et al.\"]],[\"Haloperidol-induced changes in neuronal activity in the<br>striatum of the freely moving rat.\",[\"Dorin Yael\",\"Dagmar H Zeef\",\"Daniel Sand\",\"Anan Moran\",\"et al.\"]],[\"Lateral hypothalamus contains two types of<br>palatability-related taste responses with distinct dynamics.\",[\"Jennifer X Li\",\"Takashi Yoshida\",\"Kevin J Monk\",\"Donald B Katz\"]],[\"Neural dynamics in response to binary taste mixtures.\",[\"Joost X Maier\",\"Donald B Katz\"]],[\"Local field potentials in the<br>gustatory cortex carry taste information.\",[\"Rodrigo Pav\\u00e3o\",\"Caitlin E Piette\",\"V\\u00edtor Lopes-dos-Santos\",\"Donald B Katz\",\"et al.\"]],[\"Sensory cortical population dynamics uniquely track<br>behavior across learning and extinction.\",[\"Anan Moran\",\"Donald B Katz\"]],[\"Licking microstructure reveals rapid attenuation of neophobia.\",[\"Kevin J Monk\",\"Benjamin D Rubin\",\"Jennifer C Keene\",\"Donald B Katz\"]],[\"A Multisensory Network for Olfactory Processing.\",[\"Joost X Maier\",\"Meredith L Blankenship\",\"Jennifer X Li\",\"Donald B Katz\"]],[\"Memory Retrieval Has a Dynamic Influence<br>on the Maintenance Mechanisms That Are<br>Sensitive to \\u03b6-Inhibitory Peptide (ZIP).\",[\"David Levitan\",\"Yaihara Fortis-Santiago\",\"Joshua A Figueroa\",\"Emily E Reid\",\"et al.\"]],[\"Sensory Cortical Activity Is Related to the<br>Selection of a Rhythmic Motor Action Pattern.\",[\"Jennifer X Li\",\"Joost X Maier\",\"Emily E Reid\",\"Donald B Katz\"]],[\"Preexposure to salty and sour taste enhances<br>conditioned taste aversion to novel sucrose.\",[\"Veronica L Flores\",\"Anan Moran\",\"Max Bernstein\",\"Donald B Katz\"]],[\"Dynamic taste responses of parabrachial<br>pontine neurons in awake rats.\",[\"Madelyn A Baez-Santiago\",\"Emily E Reid\",\"Anan Moran\",\"Joost X Maier\",\"et al.\"]],[\"The Behavioral Relevance of Cortical<br>Neural Ensemble Responses Emerges Suddenly.\",[\"Brian F Sadacca\",\"Narendra Mukherjee\",\"Tony Vladusich\",\"Jennifer X Li\",\"et al.\"]],[\"The role of the gustatory cortex in<br>incidental experience-evoked enhancement of later taste learning.\",[\"Veronica L Flores\",\"Tamar Parmet\",\"Narendra Mukherjee\",\"Sacha Nelson\",\"et al.\"]],[\"Single and population coding of taste in<br>the gustatory cortex of awake mice.\",[\"David Levitan\",\"Jian-You Lin\",\"Joseph Wachutka\",\"Narendra Mukherjee\",\"et al.\"]],[\"Impact of precisely-timed inhibition of gustatory cortex on<br>taste behavior depends on single-trial ensemble dynamics.\",[\"Narendra Mukherjee\",\"Joseph Wachutka\",\"Donald B Katz\"]],[\"Interaction of Taste and Place<br>Coding in the Hippocampus.\",[\"Linnea E Herzog\",\"Leila May Pascual\",\"Seneca J Scott\",\"Elon R Mathieson\",\"et al.\"]],[\"Retronasal Odor Perception Requires Taste<br>Cortex, but Orthonasal Does Not.\",[\"Meredith L Blankenship\",\"Maria Grigorova\",\"Donald B Katz\",\"Joost X Maier\"]],[\"Deletion of <i>Stk11</i> and <i>Fos</i> in mouse<br>BLA projection neurons alters intrinsic excitability and<br>impairs formation of long-term aversive memory.\",[\"David Levitan\",\"Chenghao Liu\",\"Tracy Yang\",\"Yasuyuki Shima\",\"et al.\"]],[\"Refinement and Reactivation of a Taste-Responsive Hippocampal Network.\",[\"Linnea E Herzog\",\"Donald B Katz\",\"Shantanu P Jadhav\"]],[\"A model of naturalistic decision<br>making in preference tests.\",[\"John Ksander\",\"Donald B Katz\",\"Paul Miller\"]],[\"Homeostatic synaptic scaling establishes the<br>specificity of an associative memory.\",[\"Chi-Hong Wu\",\"Raul Ramos\",\"Donald B Katz\",\"Gina G Turrigiano\"]],[\"Perturbation of amygdala-cortical projections reduces ensemble coherence<br>of palatability coding in gustatory cortex.\",[\"Jian-You Lin\",\"Narendra Mukherjee\",\"Max J Bernstein\",\"Donald B Katz\"]]],\"hovertemplate\":\"<b>%{customdata[0]}</b><br>%{x}<br>%{customdata[1]}\",\"hovertext\":[\"State-dependent modulation of time-varying gustatory responses.\",\"Natural stimuli evoke dynamic sequences of states in sensory cortical ensembles.\",\"The EJC factor eIF4AIII modulates synaptic strength and neuronal protein expression.\",\"Investigating the motivational mechanism of altered saline consumption following 5-HT(1A) manipulation.\",\"State dependence of olfactory perception as a function of taste cortical inactivation.\",\"Stochastic transitions between neural states in taste processing and decision-making.\",\"Genetically induced cholinergic hyper-innervation enhances taste learning.\",\"Control of prestimulus activity related to improved sensory coding within a discrimination task.\",\"Chemosensory convergence on primary olfactory cortex.\",\"Sodium concentration coding gives way to evaluative coding in cortex and amygdala.\",\"Inactivation of basolateral amygdala specifically eliminates palatability-related information in cortical sensory responses.\",\"NMDAR antagonist action in thalamus imposes \\u03b4 oscillations on the hippocampus.\",\"Firing rate homeostasis in visual cortex of freely behaving rodents.\",\"Haloperidol-induced changes in neuronal activity in the striatum of the freely moving rat.\",\"Lateral hypothalamus contains two types of palatability-related taste responses with distinct dynamics.\",\"Neural dynamics in response to binary taste mixtures.\",\"Local field potentials in the gustatory cortex carry taste information.\",\"Sensory cortical population dynamics uniquely track behavior across learning and extinction.\",\"Licking microstructure reveals rapid attenuation of neophobia.\",\"A Multisensory Network for Olfactory Processing.\",\"Memory Retrieval Has a Dynamic Influence on the Maintenance Mechanisms That Are Sensitive to \\u03b6-Inhibitory Peptide (ZIP).\",\"Sensory Cortical Activity Is Related to the Selection of a Rhythmic Motor Action Pattern.\",\"Preexposure to salty and sour taste enhances conditioned taste aversion to novel sucrose.\",\"Dynamic taste responses of parabrachial pontine neurons in awake rats.\",\"The Behavioral Relevance of Cortical Neural Ensemble Responses Emerges Suddenly.\",\"The role of the gustatory cortex in incidental experience-evoked enhancement of later taste learning.\",\"Single and population coding of taste in the gustatory cortex of awake mice.\",\"Impact of precisely-timed inhibition of gustatory cortex on taste behavior depends on single-trial ensemble dynamics.\",\"Interaction of Taste and Place Coding in the Hippocampus.\",\"Retronasal Odor Perception Requires Taste Cortex, but Orthonasal Does Not.\",\"Deletion of <i>Stk11</i> and <i>Fos</i> in mouse BLA projection neurons alters intrinsic excitability and impairs formation of long-term aversive memory.\",\"Refinement and Reactivation of a Taste-Responsive Hippocampal Network.\",\"A model of naturalistic decision making in preference tests.\",\"Homeostatic synaptic scaling establishes the specificity of an associative memory.\",\"Perturbation of amygdala-cortical projections reduces ensemble coherence of palatability coding in gustatory cortex.\"],\"legendgroup\":\"Journal Article\",\"marker\":{\"color\":\"#00cc96\",\"size\":[40,40,40,40,40,40,40,40,40,40,40,40,40,40,40,40,40,40,40,40,40,40,40,40,40,40,40,40,40,40,40,40,40,40,40],\"sizemode\":\"area\",\"sizeref\":0.016,\"symbol\":\"circle\"},\"mode\":\"markers+text\",\"name\":\"Journal Article\",\"orientation\":\"v\",\"showlegend\":true,\"text\":[\"Fontanini\\n2006\",\"Jones\\n2007\",\"Giorgi\\n2007\",\"Caras\\n2008\",\"Fortis-Santiago\\n2010\",\"Miller\\n2010\",\"Neseliler\\n2011\",\"Yoshida\\n2011\",\"Maier\\n2012\",\"Sadacca\\n2012\",\"Piette\\n2012\",\"Zhang\\n2012\",\"Hengen\\n2013\",\"Yael\\n2013\",\"Li\\n2013\",\"Maier\\n2013\",\"Pav\\u00e3o\\n2014\",\"Moran\\n2014\",\"Monk\\n2014\",\"Maier\\n2015\",\"Levitan\\n2016\",\"Li\\n2016\",\"Flores\\n2016\",\"Baez-Santiago\\n2016\",\"Sadacca\\n2016\",\"Flores\\n2018\",\"Levitan\\n2019\",\"Mukherjee\\n2019\",\"Herzog\\n2019\",\"Blankenship\\n2019\",\"Levitan\\n2020\",\"Herzog\\n2020\",\"Ksander\\n2021\",\"Wu\\n2021\",\"Lin\\n2021\"],\"x\":[2006,2007,2007,2008,2010,2010,2011,2011,2012,2012,2012,2012,2013,2013,2013,2013,2014,2014,2014,2015,2016,2016,2016,2016,2016,2018,2019,2019,2019,2019,2020,2020,2021,2021,2021],\"xaxis\":\"x\",\"y\":[0.0,0.5,1.5,2.0,0.0,1.0,0.5,2.5,0.0,1.0,2.0,3.0,0.5,1.5,3.5,4.5,0.0,1.0,2.0,0.5,0.0,1.0,2.0,3.0,4.0,0.0,0.5,1.5,3.5,4.5,0.0,1.0,0.5,1.5,2.5],\"yaxis\":\"y\",\"type\":\"scatter\"},{\"customdata\":[[\"Olfactory bulb: odor signals put into context.\",[\"Donald B Katz\",\"Joost X Maier\"]]],\"hovertemplate\":\"<b>%{customdata[0]}</b><br>%{x}<br>%{customdata[1]}\",\"hovertext\":[\"Olfactory bulb: odor signals put into context.\"],\"legendgroup\":\"Comment\",\"marker\":{\"color\":\"#ab63fa\",\"size\":[40],\"sizemode\":\"area\",\"sizeref\":0.016,\"symbol\":\"circle\"},\"mode\":\"markers+text\",\"name\":\"Comment\",\"orientation\":\"v\",\"showlegend\":true,\"text\":[\"Katz\\n2011\"],\"x\":[2011],\"xaxis\":\"x\",\"y\":[1.5],\"yaxis\":\"y\",\"type\":\"scatter\"}],                        {\"template\":{\"data\":{\"bar\":[{\"error_x\":{\"color\":\"#2a3f5f\"},\"error_y\":{\"color\":\"#2a3f5f\"},\"marker\":{\"line\":{\"color\":\"#E5ECF6\",\"width\":0.5},\"pattern\":{\"fillmode\":\"overlay\",\"size\":10,\"solidity\":0.2}},\"type\":\"bar\"}],\"barpolar\":[{\"marker\":{\"line\":{\"color\":\"#E5ECF6\",\"width\":0.5},\"pattern\":{\"fillmode\":\"overlay\",\"size\":10,\"solidity\":0.2}},\"type\":\"barpolar\"}],\"carpet\":[{\"aaxis\":{\"endlinecolor\":\"#2a3f5f\",\"gridcolor\":\"white\",\"linecolor\":\"white\",\"minorgridcolor\":\"white\",\"startlinecolor\":\"#2a3f5f\"},\"baxis\":{\"endlinecolor\":\"#2a3f5f\",\"gridcolor\":\"white\",\"linecolor\":\"white\",\"minorgridcolor\":\"white\",\"startlinecolor\":\"#2a3f5f\"},\"type\":\"carpet\"}],\"choropleth\":[{\"colorbar\":{\"outlinewidth\":0,\"ticks\":\"\"},\"type\":\"choropleth\"}],\"contour\":[{\"colorbar\":{\"outlinewidth\":0,\"ticks\":\"\"},\"colorscale\":[[0.0,\"#0d0887\"],[0.1111111111111111,\"#46039f\"],[0.2222222222222222,\"#7201a8\"],[0.3333333333333333,\"#9c179e\"],[0.4444444444444444,\"#bd3786\"],[0.5555555555555556,\"#d8576b\"],[0.6666666666666666,\"#ed7953\"],[0.7777777777777778,\"#fb9f3a\"],[0.8888888888888888,\"#fdca26\"],[1.0,\"#f0f921\"]],\"type\":\"contour\"}],\"contourcarpet\":[{\"colorbar\":{\"outlinewidth\":0,\"ticks\":\"\"},\"type\":\"contourcarpet\"}],\"heatmap\":[{\"colorbar\":{\"outlinewidth\":0,\"ticks\":\"\"},\"colorscale\":[[0.0,\"#0d0887\"],[0.1111111111111111,\"#46039f\"],[0.2222222222222222,\"#7201a8\"],[0.3333333333333333,\"#9c179e\"],[0.4444444444444444,\"#bd3786\"],[0.5555555555555556,\"#d8576b\"],[0.6666666666666666,\"#ed7953\"],[0.7777777777777778,\"#fb9f3a\"],[0.8888888888888888,\"#fdca26\"],[1.0,\"#f0f921\"]],\"type\":\"heatmap\"}],\"heatmapgl\":[{\"colorbar\":{\"outlinewidth\":0,\"ticks\":\"\"},\"colorscale\":[[0.0,\"#0d0887\"],[0.1111111111111111,\"#46039f\"],[0.2222222222222222,\"#7201a8\"],[0.3333333333333333,\"#9c179e\"],[0.4444444444444444,\"#bd3786\"],[0.5555555555555556,\"#d8576b\"],[0.6666666666666666,\"#ed7953\"],[0.7777777777777778,\"#fb9f3a\"],[0.8888888888888888,\"#fdca26\"],[1.0,\"#f0f921\"]],\"type\":\"heatmapgl\"}],\"histogram\":[{\"marker\":{\"pattern\":{\"fillmode\":\"overlay\",\"size\":10,\"solidity\":0.2}},\"type\":\"histogram\"}],\"histogram2d\":[{\"colorbar\":{\"outlinewidth\":0,\"ticks\":\"\"},\"colorscale\":[[0.0,\"#0d0887\"],[0.1111111111111111,\"#46039f\"],[0.2222222222222222,\"#7201a8\"],[0.3333333333333333,\"#9c179e\"],[0.4444444444444444,\"#bd3786\"],[0.5555555555555556,\"#d8576b\"],[0.6666666666666666,\"#ed7953\"],[0.7777777777777778,\"#fb9f3a\"],[0.8888888888888888,\"#fdca26\"],[1.0,\"#f0f921\"]],\"type\":\"histogram2d\"}],\"histogram2dcontour\":[{\"colorbar\":{\"outlinewidth\":0,\"ticks\":\"\"},\"colorscale\":[[0.0,\"#0d0887\"],[0.1111111111111111,\"#46039f\"],[0.2222222222222222,\"#7201a8\"],[0.3333333333333333,\"#9c179e\"],[0.4444444444444444,\"#bd3786\"],[0.5555555555555556,\"#d8576b\"],[0.6666666666666666,\"#ed7953\"],[0.7777777777777778,\"#fb9f3a\"],[0.8888888888888888,\"#fdca26\"],[1.0,\"#f0f921\"]],\"type\":\"histogram2dcontour\"}],\"mesh3d\":[{\"colorbar\":{\"outlinewidth\":0,\"ticks\":\"\"},\"type\":\"mesh3d\"}],\"parcoords\":[{\"line\":{\"colorbar\":{\"outlinewidth\":0,\"ticks\":\"\"}},\"type\":\"parcoords\"}],\"pie\":[{\"automargin\":true,\"type\":\"pie\"}],\"scatter\":[{\"marker\":{\"colorbar\":{\"outlinewidth\":0,\"ticks\":\"\"}},\"type\":\"scatter\"}],\"scatter3d\":[{\"line\":{\"colorbar\":{\"outlinewidth\":0,\"ticks\":\"\"}},\"marker\":{\"colorbar\":{\"outlinewidth\":0,\"ticks\":\"\"}},\"type\":\"scatter3d\"}],\"scattercarpet\":[{\"marker\":{\"colorbar\":{\"outlinewidth\":0,\"ticks\":\"\"}},\"type\":\"scattercarpet\"}],\"scattergeo\":[{\"marker\":{\"colorbar\":{\"outlinewidth\":0,\"ticks\":\"\"}},\"type\":\"scattergeo\"}],\"scattergl\":[{\"marker\":{\"colorbar\":{\"outlinewidth\":0,\"ticks\":\"\"}},\"type\":\"scattergl\"}],\"scattermapbox\":[{\"marker\":{\"colorbar\":{\"outlinewidth\":0,\"ticks\":\"\"}},\"type\":\"scattermapbox\"}],\"scatterpolar\":[{\"marker\":{\"colorbar\":{\"outlinewidth\":0,\"ticks\":\"\"}},\"type\":\"scatterpolar\"}],\"scatterpolargl\":[{\"marker\":{\"colorbar\":{\"outlinewidth\":0,\"ticks\":\"\"}},\"type\":\"scatterpolargl\"}],\"scatterternary\":[{\"marker\":{\"colorbar\":{\"outlinewidth\":0,\"ticks\":\"\"}},\"type\":\"scatterternary\"}],\"surface\":[{\"colorbar\":{\"outlinewidth\":0,\"ticks\":\"\"},\"colorscale\":[[0.0,\"#0d0887\"],[0.1111111111111111,\"#46039f\"],[0.2222222222222222,\"#7201a8\"],[0.3333333333333333,\"#9c179e\"],[0.4444444444444444,\"#bd3786\"],[0.5555555555555556,\"#d8576b\"],[0.6666666666666666,\"#ed7953\"],[0.7777777777777778,\"#fb9f3a\"],[0.8888888888888888,\"#fdca26\"],[1.0,\"#f0f921\"]],\"type\":\"surface\"}],\"table\":[{\"cells\":{\"fill\":{\"color\":\"#EBF0F8\"},\"line\":{\"color\":\"white\"}},\"header\":{\"fill\":{\"color\":\"#C8D4E3\"},\"line\":{\"color\":\"white\"}},\"type\":\"table\"}]},\"layout\":{\"annotationdefaults\":{\"arrowcolor\":\"#2a3f5f\",\"arrowhead\":0,\"arrowwidth\":1},\"autotypenumbers\":\"strict\",\"coloraxis\":{\"colorbar\":{\"outlinewidth\":0,\"ticks\":\"\"}},\"colorscale\":{\"diverging\":[[0,\"#8e0152\"],[0.1,\"#c51b7d\"],[0.2,\"#de77ae\"],[0.3,\"#f1b6da\"],[0.4,\"#fde0ef\"],[0.5,\"#f7f7f7\"],[0.6,\"#e6f5d0\"],[0.7,\"#b8e186\"],[0.8,\"#7fbc41\"],[0.9,\"#4d9221\"],[1,\"#276419\"]],\"sequential\":[[0.0,\"#0d0887\"],[0.1111111111111111,\"#46039f\"],[0.2222222222222222,\"#7201a8\"],[0.3333333333333333,\"#9c179e\"],[0.4444444444444444,\"#bd3786\"],[0.5555555555555556,\"#d8576b\"],[0.6666666666666666,\"#ed7953\"],[0.7777777777777778,\"#fb9f3a\"],[0.8888888888888888,\"#fdca26\"],[1.0,\"#f0f921\"]],\"sequentialminus\":[[0.0,\"#0d0887\"],[0.1111111111111111,\"#46039f\"],[0.2222222222222222,\"#7201a8\"],[0.3333333333333333,\"#9c179e\"],[0.4444444444444444,\"#bd3786\"],[0.5555555555555556,\"#d8576b\"],[0.6666666666666666,\"#ed7953\"],[0.7777777777777778,\"#fb9f3a\"],[0.8888888888888888,\"#fdca26\"],[1.0,\"#f0f921\"]]},\"colorway\":[\"#636efa\",\"#EF553B\",\"#00cc96\",\"#ab63fa\",\"#FFA15A\",\"#19d3f3\",\"#FF6692\",\"#B6E880\",\"#FF97FF\",\"#FECB52\"],\"font\":{\"color\":\"#2a3f5f\"},\"geo\":{\"bgcolor\":\"white\",\"lakecolor\":\"white\",\"landcolor\":\"#E5ECF6\",\"showlakes\":true,\"showland\":true,\"subunitcolor\":\"white\"},\"hoverlabel\":{\"align\":\"left\"},\"hovermode\":\"closest\",\"mapbox\":{\"style\":\"light\"},\"paper_bgcolor\":\"white\",\"plot_bgcolor\":\"#E5ECF6\",\"polar\":{\"angularaxis\":{\"gridcolor\":\"white\",\"linecolor\":\"white\",\"ticks\":\"\"},\"bgcolor\":\"#E5ECF6\",\"radialaxis\":{\"gridcolor\":\"white\",\"linecolor\":\"white\",\"ticks\":\"\"}},\"scene\":{\"xaxis\":{\"backgroundcolor\":\"#E5ECF6\",\"gridcolor\":\"white\",\"gridwidth\":2,\"linecolor\":\"white\",\"showbackground\":true,\"ticks\":\"\",\"zerolinecolor\":\"white\"},\"yaxis\":{\"backgroundcolor\":\"#E5ECF6\",\"gridcolor\":\"white\",\"gridwidth\":2,\"linecolor\":\"white\",\"showbackground\":true,\"ticks\":\"\",\"zerolinecolor\":\"white\"},\"zaxis\":{\"backgroundcolor\":\"#E5ECF6\",\"gridcolor\":\"white\",\"gridwidth\":2,\"linecolor\":\"white\",\"showbackground\":true,\"ticks\":\"\",\"zerolinecolor\":\"white\"}},\"shapedefaults\":{\"line\":{\"color\":\"#2a3f5f\"}},\"ternary\":{\"aaxis\":{\"gridcolor\":\"white\",\"linecolor\":\"white\",\"ticks\":\"\"},\"baxis\":{\"gridcolor\":\"white\",\"linecolor\":\"white\",\"ticks\":\"\"},\"bgcolor\":\"#E5ECF6\",\"caxis\":{\"gridcolor\":\"white\",\"linecolor\":\"white\",\"ticks\":\"\"}},\"title\":{\"x\":0.05},\"xaxis\":{\"automargin\":true,\"gridcolor\":\"white\",\"linecolor\":\"white\",\"ticks\":\"\",\"title\":{\"standoff\":15},\"zerolinecolor\":\"white\",\"zerolinewidth\":2},\"yaxis\":{\"automargin\":true,\"gridcolor\":\"white\",\"linecolor\":\"white\",\"ticks\":\"\",\"title\":{\"standoff\":15},\"zerolinecolor\":\"white\",\"zerolinewidth\":2}}},\"xaxis\":{\"anchor\":\"y\",\"domain\":[0.0,1.0],\"title\":{\"text\":\"Publication Date\"}},\"yaxis\":{\"anchor\":\"x\",\"domain\":[0.0,1.0],\"title\":{\"text\":\"Rank\"}},\"legend\":{\"title\":{\"text\":\"Fin_Article_Type\"},\"tracegroupgap\":0,\"itemsizing\":\"constant\"},\"margin\":{\"t\":60},\"height\":1000,\"width\":1500,\"uniformtext\":{\"minsize\":6,\"mode\":\"hide\"}},                        {\"responsive\": true}                    ).then(function(){\n",
       "                            \n",
       "var gd = document.getElementById('191d19af-db37-4cec-b622-4a272b60c9dc');\n",
       "var x = new MutationObserver(function (mutations, observer) {{\n",
       "        var display = window.getComputedStyle(gd).display;\n",
       "        if (!display || display === 'none') {{\n",
       "            console.log([gd, 'removed!']);\n",
       "            Plotly.purge(gd);\n",
       "            observer.disconnect();\n",
       "        }}\n",
       "}});\n",
       "\n",
       "// Listen for the removal of the full notebook cells\n",
       "var notebookContainer = gd.closest('#notebook-container');\n",
       "if (notebookContainer) {{\n",
       "    x.observe(notebookContainer, {childList: true});\n",
       "}}\n",
       "\n",
       "// Listen for the clearing of the current output cell\n",
       "var outputEl = gd.closest('.output');\n",
       "if (outputEl) {{\n",
       "    x.observe(outputEl, {childList: true});\n",
       "}}\n",
       "\n",
       "                        })                };                });            </script>        </div>"
      ]
     },
     "metadata": {},
     "output_type": "display_data"
    }
   ],
   "source": [
    "paper_frame['scatter_size'] = 40\n",
    "fig = px.scatter(paper_frame, x=\"Date\", y=\"Rank\",\n",
    "                 hover_name=\"Title\", hover_data=['Date','Authors_pretty'],\n",
    "                text = 'Summary', size = 'scatter_size',\n",
    "                size_max = 50,\n",
    "                width = 1500, height = 1000,\n",
    "                color ='Fin_Article_Type',\n",
    "                custom_data=['Title_Pretty','Authors_pretty'])\n",
    "\n",
    "fig.update_traces(hovertemplate='<b>%{customdata[0]}</b>'\n",
    "                         '<br>%{x}<br>%{customdata[1]}')\n",
    "                #hovertemplate= ')#+\n",
    "                #         '<br><b>Average Discharge</b>: %{lat}<br>'))\n",
    "                #color_discrete_map = {'0':'silver','1':'gray'},\n",
    "                #color = 'year_even',\n",
    "                #symbol ='Fin_Article_Type')\n",
    "                \n",
    "fig.update_layout(uniformtext_minsize=6, \n",
    "                  uniformtext_mode='hide',\n",
    "                 xaxis_title=\"Publication Date\")\n",
    "fig.show()"
   ]
  },
  {
   "cell_type": "code",
   "execution_count": 240,
   "metadata": {},
   "outputs": [],
   "source": [
    "import plotly.io as pio\n",
    "pio.write_html(fig, file='index.html', auto_open=True)"
   ]
  },
  {
   "cell_type": "code",
   "execution_count": 241,
   "metadata": {},
   "outputs": [
    {
     "name": "stdout",
     "output_type": "stream",
     "text": [
      "index.html       simple_network_graph.ipynb\r\n",
      "query_pubmed.py  simple_network_graph.py\r\n"
     ]
    }
   ],
   "source": [
    "%ls"
   ]
  },
  {
   "cell_type": "markdown",
   "metadata": {},
   "source": [
    "# ====================================="
   ]
  },
  {
   "cell_type": "code",
   "execution_count": 129,
   "metadata": {},
   "outputs": [],
   "source": [
    "# #G = nx.random_geometric_graph(200, 0.125)\n",
    "# G=nx.Graph()\n",
    "\n",
    "# for num, this_row in paper_frame.iterrows():\n",
    "#     G.add_node(num,pos=(this_row['Date'],this_row['Rank']))"
   ]
  },
  {
   "cell_type": "code",
   "execution_count": 72,
   "metadata": {},
   "outputs": [],
   "source": [
    "# edge_x = []\n",
    "# edge_y = []\n",
    "# for edge in G.edges():\n",
    "#     x0, y0 = G.nodes[edge[0]]['pos']\n",
    "#     x1, y1 = G.nodes[edge[1]]['pos']\n",
    "#     edge_x.append(x0)\n",
    "#     edge_x.append(x1)\n",
    "#     edge_x.append(None)\n",
    "#     edge_y.append(y0)\n",
    "#     edge_y.append(y1)\n",
    "#     edge_y.append(None)\n",
    "\n",
    "# edge_trace = go.Scatter(\n",
    "#     x=edge_x, y=edge_y,\n",
    "#     line=dict(width=0.5, color='#888'),\n",
    "#     hoverinfo='none',\n",
    "#     mode='lines')\n",
    "\n",
    "# node_x = []\n",
    "# node_y = []\n",
    "# for node in G.nodes():\n",
    "#     x, y = G.nodes[node]['pos']\n",
    "#     node_x.append(x)\n",
    "#     node_y.append(y)\n",
    "\n",
    "# node_trace = go.Scatter(\n",
    "#     x=node_x, y=node_y,\n",
    "#     mode='markers + text',\n",
    "#     hoverinfo='text',\n",
    "#     marker=dict(\n",
    "#         showscale=True,\n",
    "#         # colorscale options\n",
    "#         #'Greys' | 'YlGnBu' | 'Greens' | 'YlOrRd' | 'Bluered' | 'RdBu' |\n",
    "#         #'Reds' | 'Blues' | 'Picnic' | 'Rainbow' | 'Portland' | 'Jet' |\n",
    "#         #'Hot' | 'Blackbody' | 'Earth' | 'Electric' | 'Viridis' |\n",
    "#         colorscale='YlGnBu',\n",
    "#         reversescale=True,\n",
    "#         color=[],\n",
    "#         size=10,\n",
    "#         colorbar=dict(\n",
    "#             thickness=15,\n",
    "#             title='Node Connections',\n",
    "#             xanchor='left',\n",
    "#             titleside='right'\n",
    "#         ),\n",
    "#         line_width=2))"
   ]
  },
  {
   "cell_type": "code",
   "execution_count": 73,
   "metadata": {},
   "outputs": [],
   "source": [
    "# # node_adjacencies = []\n",
    "# # node_text = []\n",
    "# # for node, adjacencies in enumerate(G.adjacency()):\n",
    "# #     node_adjacencies.append(len(adjacencies[1]))\n",
    "# #     node_text.append('# of connections: '+str(len(adjacencies[1])))\n",
    "\n",
    "# # node_trace.marker.color = node_adjacencies\n",
    "\n",
    "# # node_trace.text = node_text\n",
    "# node_trace.text = paper_frame['Summary']"
   ]
  },
  {
   "cell_type": "code",
   "execution_count": 210,
   "metadata": {},
   "outputs": [],
   "source": [
    "# fig = go.Figure(data=[edge_trace, node_trace],\n",
    "#              layout=go.Layout(\n",
    "#                 title='<br>Network graph made with Python',\n",
    "#                 titlefont_size=16,\n",
    "#                 showlegend=True,\n",
    "#                 hovermode='closest',\n",
    "#                 margin=dict(b=20,l=5,r=5,t=40),\n",
    "#                 annotations=[ dict(\n",
    "#                     showarrow=False,\n",
    "#                     xref=\"paper\", yref=\"paper\",\n",
    "#                     x=0.005, y=-0.002 ) ],\n",
    "#                 xaxis=dict(showgrid=True, zeroline=False, showticklabels=True, autorange=True),\n",
    "#                 yaxis=dict(showgrid=False, zeroline=False, showticklabels=False))\n",
    "#                 )\n",
    "# fig.show()"
   ]
  },
  {
   "cell_type": "code",
   "execution_count": null,
   "metadata": {},
   "outputs": [],
   "source": []
  }
 ],
 "metadata": {
  "kernelspec": {
   "display_name": "Python 3 (ipykernel)",
   "language": "python",
   "name": "python3"
  },
  "language_info": {
   "codemirror_mode": {
    "name": "ipython",
    "version": 3
   },
   "file_extension": ".py",
   "mimetype": "text/x-python",
   "name": "python",
   "nbconvert_exporter": "python",
   "pygments_lexer": "ipython3",
   "version": "3.6.10"
  }
 },
 "nbformat": 4,
 "nbformat_minor": 4
}
